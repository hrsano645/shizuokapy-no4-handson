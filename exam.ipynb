{
 "metadata": {
  "name": "",
  "signature": "sha256:1e0364c047ed522081ec0f0c235c51c975380b63b033dbe240427d45b893e26a"
 },
 "nbformat": 3,
 "nbformat_minor": 0,
 "worksheets": [
  {
   "cells": [
    {
     "cell_type": "code",
     "collapsed": false,
     "input": [
      "import yaml"
     ],
     "language": "python",
     "metadata": {},
     "outputs": [],
     "prompt_number": 1
    },
    {
     "cell_type": "code",
     "collapsed": false,
     "input": [
      "with open(\"./exam.yaml\") as yaml_fp:\n",
      "    exam_yaml = yaml.load(yaml_fp)"
     ],
     "language": "python",
     "metadata": {},
     "outputs": [],
     "prompt_number": 55
    },
    {
     "cell_type": "code",
     "collapsed": false,
     "input": [
      "from  pprint import pprint as pprint \n",
      "pprint(exam_yaml)"
     ],
     "language": "python",
     "metadata": {},
     "outputs": [
      {
       "output_type": "stream",
       "stream": "stdout",
       "text": [
        "{'general': {'address': '\u201c\u9759\u5ca1\u770c\u5bcc\u58eb\u5e02\u5409\u539f2-10\"',\n",
        "             'name': '\u201cshizuoka.py No4\u201d',\n",
        "             'venue_name': '\u201c\u30b3\u30df\u30e5\u30cb\u30c6\u30a3F\"',\n",
        "             'zipcode': '\u201c417-0051\u201d'},\n",
        " 'members': [{'entry_status': 'entry',\n",
        "              'name': 'hrsano645',\n",
        "              'twitter_id': 'hrs_sano645'},\n",
        "             {'entry_status': 'entry', 'name': 'kzfmix'},\n",
        "             {'entry_status': 'entry', 'name': 'bonohu'},\n",
        "             {'entry_status': 'entry', 'name': 'oec014'},\n",
        "             {'entry_status': 'entry', 'name': 'aoshiman'},\n",
        "             {'entry_status': 'entry', 'name': 'ando_ando_ando'},\n",
        "             {'entry_status': 'entry', 'name': 'y_sama'},\n",
        "             {'entry_status': 'entry', 'name': 'no85'},\n",
        "             {'entry_status': 'cancceled', 'name': 'Satoooooooooooo'}]}\n"
       ]
      }
     ],
     "prompt_number": 56
    },
    {
     "cell_type": "code",
     "collapsed": false,
     "input": [
      "import json"
     ],
     "language": "python",
     "metadata": {},
     "outputs": [],
     "prompt_number": 57
    },
    {
     "cell_type": "code",
     "collapsed": false,
     "input": [
      "with open(\"./exam.json\") as json_fp:\n",
      "    load_exam_json = json.load(json_fp)"
     ],
     "language": "python",
     "metadata": {},
     "outputs": [],
     "prompt_number": 58
    },
    {
     "cell_type": "code",
     "collapsed": false,
     "input": [
      "pprint(load_exam_json)"
     ],
     "language": "python",
     "metadata": {},
     "outputs": [
      {
       "output_type": "stream",
       "stream": "stdout",
       "text": [
        "{'general': {'address': '\u9759\u5ca1\u770c\u5bcc\u58eb\u5e02\u5409\u539f2-10',\n",
        "             'json-comment': '\u66f8\u3051\u307e\u305b\u3093 :-(',\n",
        "             'name': 'shizuoka.py No4',\n",
        "             'venue_name': '\u30b3\u30df\u30e5\u30cb\u30c6\u30a3F',\n",
        "             'zipcode': '417-0051'},\n",
        " 'members': [{'entry_status': 'entry',\n",
        "              'name': 'hrsano645',\n",
        "              'twitter_id': 'hrs_sano645'},\n",
        "             {'entry_status': 'entry', 'name': 'kzfmix'},\n",
        "             {'entry_status': 'entry', 'name': 'bonohu'},\n",
        "             {'entry_status': 'entry', 'name': 'oec014'},\n",
        "             {'entry_status': 'entry', 'name': 'aoshiman'},\n",
        "             {'entry_status': 'entry', 'name': 'ando_ando_ando'},\n",
        "             {'entry_status': 'entry', 'name': 'y_sama'},\n",
        "             {'entry_status': 'entry', 'name': 'no85'},\n",
        "             {'entry_status': 'cancceled', 'name': 'Satoooooooooooo'}]}\n"
       ]
      }
     ],
     "prompt_number": 59
    },
    {
     "cell_type": "code",
     "collapsed": false,
     "input": [],
     "language": "python",
     "metadata": {},
     "outputs": []
    }
   ],
   "metadata": {}
  }
 ]
}