{
 "metadata": {
  "name": "",
  "signature": "sha256:4c4f439e1495d9e8bc14e337557632ea3d38d73cef71412b8ef8472e764818b8"
 },
 "nbformat": 3,
 "nbformat_minor": 0,
 "worksheets": [
  {
   "cells": [
    {
     "cell_type": "markdown",
     "metadata": {},
     "source": [
      "#\u524d\u6e96\u5099\u3067\u3059"
     ]
    },
    {
     "cell_type": "code",
     "collapsed": false,
     "input": [
      "from __future__ import unicode_literals\n",
      "from pprint import pprint"
     ],
     "language": "python",
     "metadata": {},
     "outputs": [],
     "prompt_number": 128
    },
    {
     "cell_type": "code",
     "collapsed": false,
     "input": [
      "def text_print(filepath):\n",
      "    with open(filepath) as config_text:\n",
      "        print(config_text.read())"
     ],
     "language": "python",
     "metadata": {},
     "outputs": [],
     "prompt_number": 129
    },
    {
     "cell_type": "code",
     "collapsed": false,
     "input": [
      "from collections import OrderedDict\n",
      "ryukougo_taisyo = OrderedDict()\n",
      "ryukougo_taisyo[\"no1\"] = {\"word\":\"\u30c0\u30e1\u3088\uff5e\u30c0\u30e1\u30c0\u30e1\",\"awerd\":\"\u5927\u8cde\", \"winner_name\":\"\u65e5\u672c\u30a8\u30ec\u30ad\u30c6\u30eb\u9023\u5408\u6a4b\u672c\u5c0f\u96ea\u3055\u3093\u3068\u4e2d\u91ce\u8061\u5b50\u3055\u3093\"}\n",
      "ryukougo_taisyo[\"no2\"] = {\"word\":\"\u96c6\u56e3\u7684\u81ea\u885b\u6a29\",\"awerd\":\"\u5927\u8cde\",\"winner_name\":\"none\"}\n",
      "ryukougo_taisyo[\"no3\"] = {\"word\":\"\u3042\u308a\u306e\u307e\u307e\u3067\",\"awerd\":\"\u30c8\u30c3\u30d7\u30c6\u30f3\",\"winner_name\":\"\u30c7\u30a3\u30ba\u30cb\u30fc\u300e\u30a2\u30ca\u3068\u96ea\u306e\u5973\u738b\u300f\u30c1\u30fc\u30e0\"}\n",
      "ryukougo_taisyo[\"no4\"] = {\"word\":\"\u30ab\u30fc\u30d7\u5973\u5b50\",\"awerd\":\"\u30c8\u30c3\u30d7\u30c6\u30f3\",\"winner_name\":[\"\u300c\u7403\u754c\u30e9\u30f4\u30a1\u30fc\u30ba\u300d\u306e\u4f5c\u8005\u77f3\u7530\u6566\u5b50\u3055\u3093\", \"\u300c\u30ab\u30fc\u30d7\u5973\u5b50\u300d\u795e3(\u30b9\u30ea\u30fc)\u3068\u547c\u3070\u308c\u308b\u5927\u4e95\u667a\u4fdd\u5b50\u3055\u3093\u3001\u53e4\u7530\u3061\u3055\u3053\u3055\u3093\u3001\u5929\u91ce\u6075\u3055\u3093\"]}\n",
      "ryukougo_taisyo[\"no5\"] = {\"word\":\"\u58c1\u30c9\u30f3\",\"awerd\":\"\u30c8\u30c3\u30d7\u30c6\u30f3\",\"winner_name\":\"\u6620\u753b\u300cL\u2661DK\u300d\"}\n",
      "ryukougo_taisyo[\"no6\"] = {\"word\":\"\u5371\u967a\u30c9\u30e9\u30c3\u30b0\",\"awerd\":\"\u30c8\u30c3\u30d7\u30c6\u30f3\",\"winner_name\":\"\u5143\u56fd\u5bb6\u516c\u5b89\u59d4\u54e1\u9577\u306e\u53e4\u5c4b\u572d\u53f8\u3055\u3093\"}\n",
      "ryukougo_taisyo[\"no7\"] = {\"word\":\"\u3054\u304d\u3052\u3093\u3088\u3046\",\"awerd\":\"\u30c8\u30c3\u30d7\u30c6\u30f3\",\"winner_name\":\"\u7f8e\u8f2a\u660e\u5b8f\u3055\u3093\"}\n",
      "ryukougo_taisyo[\"no8\"] = {\"word\":\"\u30de\u30bf\u30cf\u30e9\",\"awerd\":\"\u30c8\u30c3\u30d7\u30c6\u30f3\",\"winner_name\":\"\u6749\u6d66\u6d69\u7f8e\u3055\u3093\"}\n",
      "ryukougo_taisyo[\"no9\"] = {\"word\":\"\u5996\u602a\u30a6\u30a9\u30c3\u30c1\",\"awerd\":\"\u30c8\u30c3\u30d7\u30c6\u30f3\",\"winner_name\":\"\u5996\u602a\u30a6\u30a9\u30c3\u30c1 \u30af\u30ea\u30a8\u30a4\u30c6\u30a3\u30d6\u30d7\u30ed\u30c7\u30e5\u30fc\u30b5\u30fc\uff0f\u4f01\u753b\u30fb\u30b7\u30ca\u30ea\u30aa\u539f\u6848\u3001\u65e5\u91ce\u6643\u535a\u3055\u3093\"}\n",
      "ryukougo_taisyo[\"no10\"] = {\"word\":\"\u30ec\u30b8\u30a7\u30f3\u30c9\",\"awerd\":\"\u30c8\u30c3\u30d7\u30c6\u30f3\",\"winner_name\":[\"\u30b9\u30ad\u30fc\u30b8\u30e3\u30f3\u30d7\u7af6\u6280\u306b\u304a\u3051\u308b\u30ec\u30b8\u30a7\u30f3\u30c9\u3001\u845b\u897f\u7d00\u660e\u3055\u3093\",\"\u30b4\u30eb\u30d5\u754c\u306e\u30ec\u30b8\u30a7\u30f3\u30c9\u3001\u9752\u6728\u529f\u3055\u3093\",\"\u7403\u754c\u306e\u30ec\u30b8\u30a7\u30f3\u30c9\u9244\u4eba\u5de6\u8155\u6295\u624b\u3001\u5c71\u672c\u660c\u5e83\u3055\u3093\"]}"
     ],
     "language": "python",
     "metadata": {},
     "outputs": [],
     "prompt_number": 130
    },
    {
     "cell_type": "code",
     "collapsed": false,
     "input": [
      "pprint(ryukougo_taisyo)"
     ],
     "language": "python",
     "metadata": {},
     "outputs": [
      {
       "output_type": "stream",
       "stream": "stdout",
       "text": [
        "{'no1': {'awerd': '\u5927\u8cde',\n",
        "         'winner_name': '\u65e5\u672c\u30a8\u30ec\u30ad\u30c6\u30eb\u9023\u5408\u6a4b\u672c\u5c0f\u96ea\u3055\u3093\u3068\u4e2d\u91ce\u8061\u5b50\u3055\u3093',\n",
        "         'word': '\u30c0\u30e1\u3088\uff5e\u30c0\u30e1\u30c0\u30e1'},\n",
        " 'no2': {'awerd': '\u5927\u8cde', 'winner_name': 'none', 'word': '\u96c6\u56e3\u7684\u81ea\u885b\u6a29'},\n",
        " 'no3': {'awerd': '\u30c8\u30c3\u30d7\u30c6\u30f3',\n",
        "         'winner_name': '\u30c7\u30a3\u30ba\u30cb\u30fc\u300e\u30a2\u30ca\u3068\u96ea\u306e\u5973\u738b\u300f\u30c1\u30fc\u30e0',\n",
        "         'word': '\u3042\u308a\u306e\u307e\u307e\u3067'},\n",
        " 'no4': {'awerd': '\u30c8\u30c3\u30d7\u30c6\u30f3',\n",
        "         'winner_name': ['\u300c\u7403\u754c\u30e9\u30f4\u30a1\u30fc\u30ba\u300d\u306e\u4f5c\u8005\u77f3\u7530\u6566\u5b50\u3055\u3093',\n",
        "                         '\u300c\u30ab\u30fc\u30d7\u5973\u5b50\u300d\u795e3(\u30b9\u30ea\u30fc)\u3068\u547c\u3070\u308c\u308b\u5927\u4e95\u667a\u4fdd\u5b50\u3055\u3093\u3001\u53e4\u7530\u3061\u3055\u3053\u3055\u3093\u3001\u5929\u91ce\u6075\u3055\u3093'],\n",
        "         'word': '\u30ab\u30fc\u30d7\u5973\u5b50'},\n",
        " 'no5': {'awerd': '\u30c8\u30c3\u30d7\u30c6\u30f3', 'winner_name': '\u6620\u753b\u300cL\u2661DK\u300d', 'word': '\u58c1\u30c9\u30f3'},\n",
        " 'no6': {'awerd': '\u30c8\u30c3\u30d7\u30c6\u30f3', 'winner_name': '\u5143\u56fd\u5bb6\u516c\u5b89\u59d4\u54e1\u9577\u306e\u53e4\u5c4b\u572d\u53f8\u3055\u3093', 'word': '\u5371\u967a\u30c9\u30e9\u30c3\u30b0'},\n",
        " 'no7': {'awerd': '\u30c8\u30c3\u30d7\u30c6\u30f3', 'winner_name': '\u7f8e\u8f2a\u660e\u5b8f\u3055\u3093', 'word': '\u3054\u304d\u3052\u3093\u3088\u3046'},\n",
        " 'no8': {'awerd': '\u30c8\u30c3\u30d7\u30c6\u30f3', 'winner_name': '\u6749\u6d66\u6d69\u7f8e\u3055\u3093', 'word': '\u30de\u30bf\u30cf\u30e9'},\n",
        " 'no9': {'awerd': '\u30c8\u30c3\u30d7\u30c6\u30f3',\n",
        "         'winner_name': '\u5996\u602a\u30a6\u30a9\u30c3\u30c1 \u30af\u30ea\u30a8\u30a4\u30c6\u30a3\u30d6\u30d7\u30ed\u30c7\u30e5\u30fc\u30b5\u30fc\uff0f\u4f01\u753b\u30fb\u30b7\u30ca\u30ea\u30aa\u539f\u6848\u3001\u65e5\u91ce\u6643\u535a\u3055\u3093',\n",
        "         'word': '\u5996\u602a\u30a6\u30a9\u30c3\u30c1'},\n",
        " 'no10': {'awerd': '\u30c8\u30c3\u30d7\u30c6\u30f3',\n",
        "          'winner_name': ['\u30b9\u30ad\u30fc\u30b8\u30e3\u30f3\u30d7\u7af6\u6280\u306b\u304a\u3051\u308b\u30ec\u30b8\u30a7\u30f3\u30c9\u3001\u845b\u897f\u7d00\u660e\u3055\u3093',\n",
        "                          '\u30b4\u30eb\u30d5\u754c\u306e\u30ec\u30b8\u30a7\u30f3\u30c9\u3001\u9752\u6728\u529f\u3055\u3093',\n",
        "                          '\u7403\u754c\u306e\u30ec\u30b8\u30a7\u30f3\u30c9\u9244\u4eba\u5de6\u8155\u6295\u624b\u3001\u5c71\u672c\u660c\u5e83\u3055\u3093'],\n",
        "          'word': '\u30ec\u30b8\u30a7\u30f3\u30c9'}}\n"
       ]
      }
     ],
     "prompt_number": 131
    },
    {
     "cell_type": "markdown",
     "metadata": {},
     "source": [
      "#INI\u30d5\u30a1\u30a4\u30eb\u8aad\u307f\u66f8\u304d : Configperser"
     ]
    },
    {
     "cell_type": "code",
     "collapsed": false,
     "input": [
      "text_print(\"./exam.ini\")"
     ],
     "language": "python",
     "metadata": {},
     "outputs": [
      {
       "output_type": "stream",
       "stream": "stdout",
       "text": [
        "\n",
        "[general]\n",
        "name=\u201cshizuoka.py #4\u201d\n",
        "venue_name=\u201c\u30b3\u30df\u30e5\u30cb\u30c6\u30a3F\"\n",
        "address=\u201c\u9759\u5ca1\u770c\u5bcc\u58eb\u5e02\u5409\u539f2-10\"\n",
        "zipcode=\u201c417-0051\u201d\n",
        "\n",
        "[members] # \u4eca\u65e5\u51fa\u5e2d\u306e\u30e1\u30f3\u30d0\u30fc\u4e00\u89a7\u3092\u4f5c\u308b\n",
        "no1 = \"hrsano645\"\n",
        "no2 = \"kzfmix\"\n",
        "no3 = \"bonohu\"\n",
        "no4 = \"oec014\"\n",
        "no5 = \"aoshiman\"\n",
        "no6 = \"ando_ando_ando\"\n",
        "no7 = \"y_sama\"\n",
        "no8 = \"no85\"\n",
        "no9 = \"Satoooooooooooo\"\n",
        "no* =\"alice\"\n",
        "no* =\"tanizawa_yasuhiro\"\n",
        "no* =\"ringtaro\"\n",
        "\n",
        "[no1]\n",
        "entry_status=\u201centry\u201d\n",
        "twitter_id=\u201chrs_sano645\u201d\n",
        "\n",
        "[no2]\n",
        "entry_status=\"entry\"\n",
        "\n",
        "[no3]\n",
        "entry_status=\"entry\"\n",
        "\n",
        "[no4]\n",
        "entry_status=\"entry\"\n",
        "\n",
        "[no5]\n",
        "entry_status=\"entry\"\n",
        "\n",
        "[no6]\n",
        "entry_status=\"entry\"\n",
        "\n",
        "[no7]\n",
        "entry_status=\"entry\"\n",
        "\n",
        "[no8]\n",
        "entry_status=\"entry\"\n",
        "\n",
        "[no9]\n",
        "entry_status=\"cancelled\"\n",
        "\n",
        "[no10]\n",
        "entry_status= \"entry\"\n",
        "\n",
        "[no11]\n",
        "entry_status= \"entry\"\n",
        "\n",
        "[no12]\n",
        "entry_status= \"entry\"\n",
        "\n"
       ]
      }
     ],
     "prompt_number": 132
    },
    {
     "cell_type": "code",
     "collapsed": false,
     "input": [
      "import configparser"
     ],
     "language": "python",
     "metadata": {},
     "outputs": [],
     "prompt_number": 133
    },
    {
     "cell_type": "markdown",
     "metadata": {},
     "source": [
      "## \u8aad\u307f\u8fbc\u307f\n",
      "###Python2\u7cfb\n",
      "Python3\u7cfb\u3067\u306f\u30ec\u30ac\u30b7\u30fcAPI\u3068\u547c\u3070\u308c\u3066\u3044\u307e\u3059"
     ]
    },
    {
     "cell_type": "code",
     "collapsed": false,
     "input": [
      "load_exam_ini = configparser.ConfigParser()"
     ],
     "language": "python",
     "metadata": {},
     "outputs": [],
     "prompt_number": 134
    },
    {
     "cell_type": "code",
     "collapsed": false,
     "input": [
      "load_exam_ini.read(\"./exam.ini\")"
     ],
     "language": "python",
     "metadata": {},
     "outputs": [
      {
       "metadata": {},
       "output_type": "pyout",
       "prompt_number": 136,
       "text": [
        "['./exam.ini']"
       ]
      }
     ],
     "prompt_number": 136
    },
    {
     "cell_type": "code",
     "collapsed": false,
     "input": [
      "load_exam_ini.sections()"
     ],
     "language": "python",
     "metadata": {},
     "outputs": [
      {
       "metadata": {},
       "output_type": "pyout",
       "prompt_number": 137,
       "text": [
        "['general', 'members', 'no1', 'no2', 'no3', 'no4', 'no5', 'no6', 'no7', 'no8', 'no9', 'no10', 'no11', 'no12']"
       ]
      }
     ],
     "prompt_number": 137
    },
    {
     "cell_type": "code",
     "collapsed": false,
     "input": [
      "load_exam_ini.options(\"general\")"
     ],
     "language": "python",
     "metadata": {},
     "outputs": [
      {
       "metadata": {},
       "output_type": "pyout",
       "prompt_number": 138,
       "text": [
        "['name', 'venue_name', 'address', 'zipcode']"
       ]
      }
     ],
     "prompt_number": 138
    },
    {
     "cell_type": "code",
     "collapsed": false,
     "input": [
      "load_exam_ini.get(\"general\",\"name\")"
     ],
     "language": "python",
     "metadata": {},
     "outputs": [
      {
       "metadata": {},
       "output_type": "pyout",
       "prompt_number": 139,
       "text": [
        "'\u201cshizuoka.py #4\u201d'"
       ]
      }
     ],
     "prompt_number": 139
    },
    {
     "cell_type": "code",
     "collapsed": false,
     "input": [
      "\"name\" in load_exam_ini.options(\"general\")"
     ],
     "language": "python",
     "metadata": {},
     "outputs": [
      {
       "metadata": {},
       "output_type": "pyout",
       "prompt_number": 140,
       "text": [
        "True"
       ]
      }
     ],
     "prompt_number": 140
    },
    {
     "cell_type": "markdown",
     "metadata": {},
     "source": [
      "###python 3\u7cfb\u306e\u5834\u5408\n",
      "\u8f9e\u66f8\u30e9\u30a4\u30af\u306a\u30a2\u30af\u30bb\u30b9\u3082\u51fa\u6765\u307e\u3059\u3002ini\u30d5\u30a1\u30a4\u30eb\u306e\u5f62\u5f0f\u4e0a\u30012\u6b21\u5143\u914d\u5217\u7684\u306b\u3057\u304b\u5229\u7528\u3067\u304d\u306a\u3044\u306e\u3067\u3061\u3087\u3063\u3068\u7269\u8db3\u308a\u306a\u3044\u304b\u3082\u3057\u308c\u307e\u305b\u3093\n",
      "\n",
      "ini_config[\"section\"][\"option\"]"
     ]
    },
    {
     "cell_type": "code",
     "collapsed": false,
     "input": [
      "list(load_exam_ini)"
     ],
     "language": "python",
     "metadata": {},
     "outputs": [
      {
       "metadata": {},
       "output_type": "pyout",
       "prompt_number": 141,
       "text": [
        "['DEFAULT', 'general', 'members', 'no1', 'no2', 'no3', 'no4', 'no5', 'no6', 'no7', 'no8', 'no9', 'no10', 'no11', 'no12']"
       ]
      }
     ],
     "prompt_number": 141
    },
    {
     "cell_type": "code",
     "collapsed": false,
     "input": [
      "load_exam_ini[\"general\"]"
     ],
     "language": "python",
     "metadata": {},
     "outputs": [
      {
       "metadata": {},
       "output_type": "pyout",
       "prompt_number": 142,
       "text": [
        "<Section: general>"
       ]
      }
     ],
     "prompt_number": 142
    },
    {
     "cell_type": "code",
     "collapsed": false,
     "input": [
      "load_exam_ini[\"general\"][\"name\"]"
     ],
     "language": "python",
     "metadata": {},
     "outputs": [
      {
       "metadata": {},
       "output_type": "pyout",
       "prompt_number": 143,
       "text": [
        "'\u201cshizuoka.py #4\u201d'"
       ]
      }
     ],
     "prompt_number": 143
    },
    {
     "cell_type": "markdown",
     "metadata": {},
     "source": [
      "##\u66f8\u304d\u51fa\u3057\n",
      "###python 2\u7cfb\u306e\u5834\u5408\n"
     ]
    },
    {
     "cell_type": "code",
     "collapsed": false,
     "input": [
      "export_ini = configparser.ConfigParser()"
     ],
     "language": "python",
     "metadata": {},
     "outputs": [],
     "prompt_number": 144
    },
    {
     "cell_type": "code",
     "collapsed": false,
     "input": [
      "#\u5b9f\u306f\u3053\u308c\u3067\u306f\u6b63\u3057\u304f\u52d5\u304b\u306a\u3044\u3002\u30aa\u30d7\u30b7\u30e7\u30f3\u306e\u5024\u304c\u30ea\u30b9\u30c8\u306a\u306e\u3067\u5358\u7d14\u306a\u6d41\u3057\u8fbc\u307f\u306f\u51fa\u6765\u306a\u3044\n",
      "#\u591a\u6b21\u5143\u7684\u306a\u6271\u3044\u306f\u3001\u72ec\u81ea\u306a\u51e6\u7406\u3092\u5165\u308c\u308b\u5fc5\u8981\u304c\u3042\u308b\n",
      "for sect_k, sect_v_d in ryukougo_taisyo.items():\n",
      "    export_ini.add_section(sect_k)\n",
      "    for opt_k, opt_v in sect_v_d.items():\n",
      "        export_ini.set(sect_k, opt_k, opt_v)\n",
      "    "
     ],
     "language": "python",
     "metadata": {},
     "outputs": [
      {
       "ename": "TypeError",
       "evalue": "option values must be strings",
       "output_type": "pyerr",
       "traceback": [
        "\u001b[0;31m---------------------------------------------------------------------------\u001b[0m\n\u001b[0;31mTypeError\u001b[0m                                 Traceback (most recent call last)",
        "\u001b[0;32m<ipython-input-145-5a15259ff14f>\u001b[0m in \u001b[0;36m<module>\u001b[0;34m()\u001b[0m\n\u001b[1;32m      4\u001b[0m     \u001b[0mexport_ini\u001b[0m\u001b[0;34m.\u001b[0m\u001b[0madd_section\u001b[0m\u001b[0;34m(\u001b[0m\u001b[0msect_k\u001b[0m\u001b[0;34m)\u001b[0m\u001b[0;34m\u001b[0m\u001b[0m\n\u001b[1;32m      5\u001b[0m     \u001b[0;32mfor\u001b[0m \u001b[0mopt_k\u001b[0m\u001b[0;34m,\u001b[0m \u001b[0mopt_v\u001b[0m \u001b[0;32min\u001b[0m \u001b[0msect_v_d\u001b[0m\u001b[0;34m.\u001b[0m\u001b[0mitems\u001b[0m\u001b[0;34m(\u001b[0m\u001b[0;34m)\u001b[0m\u001b[0;34m:\u001b[0m\u001b[0;34m\u001b[0m\u001b[0m\n\u001b[0;32m----> 6\u001b[0;31m         \u001b[0mexport_ini\u001b[0m\u001b[0;34m.\u001b[0m\u001b[0mset\u001b[0m\u001b[0;34m(\u001b[0m\u001b[0msect_k\u001b[0m\u001b[0;34m,\u001b[0m \u001b[0mopt_k\u001b[0m\u001b[0;34m,\u001b[0m \u001b[0mopt_v\u001b[0m\u001b[0;34m)\u001b[0m\u001b[0;34m\u001b[0m\u001b[0m\n\u001b[0m\u001b[1;32m      7\u001b[0m \u001b[0;34m\u001b[0m\u001b[0m\n",
        "\u001b[0;32m/usr/local/Cellar/python3/3.4.2_1/Frameworks/Python.framework/Versions/3.4/lib/python3.4/configparser.py\u001b[0m in \u001b[0;36mset\u001b[0;34m(self, section, option, value)\u001b[0m\n\u001b[1;32m   1164\u001b[0m         \"\"\"Set an option.  Extends RawConfigParser.set by validating type and\n\u001b[1;32m   1165\u001b[0m         interpolation syntax on the value.\"\"\"\n\u001b[0;32m-> 1166\u001b[0;31m         \u001b[0mself\u001b[0m\u001b[0;34m.\u001b[0m\u001b[0m_validate_value_types\u001b[0m\u001b[0;34m(\u001b[0m\u001b[0moption\u001b[0m\u001b[0;34m=\u001b[0m\u001b[0moption\u001b[0m\u001b[0;34m,\u001b[0m \u001b[0mvalue\u001b[0m\u001b[0;34m=\u001b[0m\u001b[0mvalue\u001b[0m\u001b[0;34m)\u001b[0m\u001b[0;34m\u001b[0m\u001b[0m\n\u001b[0m\u001b[1;32m   1167\u001b[0m         \u001b[0msuper\u001b[0m\u001b[0;34m(\u001b[0m\u001b[0;34m)\u001b[0m\u001b[0;34m.\u001b[0m\u001b[0mset\u001b[0m\u001b[0;34m(\u001b[0m\u001b[0msection\u001b[0m\u001b[0;34m,\u001b[0m \u001b[0moption\u001b[0m\u001b[0;34m,\u001b[0m \u001b[0mvalue\u001b[0m\u001b[0;34m)\u001b[0m\u001b[0;34m\u001b[0m\u001b[0m\n\u001b[1;32m   1168\u001b[0m \u001b[0;34m\u001b[0m\u001b[0m\n",
        "\u001b[0;32m/usr/local/Cellar/python3/3.4.2_1/Frameworks/Python.framework/Versions/3.4/lib/python3.4/configparser.py\u001b[0m in \u001b[0;36m_validate_value_types\u001b[0;34m(self, section, option, value)\u001b[0m\n\u001b[1;32m   1153\u001b[0m         \u001b[0;32mif\u001b[0m \u001b[0;32mnot\u001b[0m \u001b[0mself\u001b[0m\u001b[0;34m.\u001b[0m\u001b[0m_allow_no_value\u001b[0m \u001b[0;32mor\u001b[0m \u001b[0mvalue\u001b[0m\u001b[0;34m:\u001b[0m\u001b[0;34m\u001b[0m\u001b[0m\n\u001b[1;32m   1154\u001b[0m             \u001b[0;32mif\u001b[0m \u001b[0;32mnot\u001b[0m \u001b[0misinstance\u001b[0m\u001b[0;34m(\u001b[0m\u001b[0mvalue\u001b[0m\u001b[0;34m,\u001b[0m \u001b[0mstr\u001b[0m\u001b[0;34m)\u001b[0m\u001b[0;34m:\u001b[0m\u001b[0;34m\u001b[0m\u001b[0m\n\u001b[0;32m-> 1155\u001b[0;31m                 \u001b[0;32mraise\u001b[0m \u001b[0mTypeError\u001b[0m\u001b[0;34m(\u001b[0m\u001b[0;34m\"option values must be strings\"\u001b[0m\u001b[0;34m)\u001b[0m\u001b[0;34m\u001b[0m\u001b[0m\n\u001b[0m\u001b[1;32m   1156\u001b[0m \u001b[0;34m\u001b[0m\u001b[0m\n\u001b[1;32m   1157\u001b[0m \u001b[0;34m\u001b[0m\u001b[0m\n",
        "\u001b[0;31mTypeError\u001b[0m: option values must be strings"
       ]
      }
     ],
     "prompt_number": 145
    },
    {
     "cell_type": "code",
     "collapsed": false,
     "input": [
      "#\u5f8c\u306f\u66f8\u304d\u51fa\u3057\u305f\u3044\u30d5\u30a1\u30a4\u30eb\u540d\u3067open\u3067\u958b\u3044\u3066\u3001\u5024\u3092\u66f8\u304d\u51fa\u3057\u307e\u3059\n",
      "with open(\"./export_ryukougo.ini\", \"w\") as export_ini_fs:\n",
      "    export_ini.write(export_ini_fs)"
     ],
     "language": "python",
     "metadata": {},
     "outputs": [],
     "prompt_number": 146
    },
    {
     "cell_type": "code",
     "collapsed": false,
     "input": [
      "text_print(\"./export_ryukougo.ini\")"
     ],
     "language": "python",
     "metadata": {},
     "outputs": [
      {
       "output_type": "stream",
       "stream": "stdout",
       "text": [
        "[no1]\n",
        "word = \u30c0\u30e1\u3088\uff5e\u30c0\u30e1\u30c0\u30e1\n",
        "awerd = \u5927\u8cde\n",
        "winner_name = \u65e5\u672c\u30a8\u30ec\u30ad\u30c6\u30eb\u9023\u5408\u6a4b\u672c\u5c0f\u96ea\u3055\u3093\u3068\u4e2d\u91ce\u8061\u5b50\u3055\u3093\n",
        "\n",
        "[no2]\n",
        "word = \u96c6\u56e3\u7684\u81ea\u885b\u6a29\n",
        "awerd = \u5927\u8cde\n",
        "winner_name = none\n",
        "\n",
        "[no3]\n",
        "word = \u3042\u308a\u306e\u307e\u307e\u3067\n",
        "awerd = \u30c8\u30c3\u30d7\u30c6\u30f3\n",
        "winner_name = \u30c7\u30a3\u30ba\u30cb\u30fc\u300e\u30a2\u30ca\u3068\u96ea\u306e\u5973\u738b\u300f\u30c1\u30fc\u30e0\n",
        "\n",
        "[no4]\n",
        "word = \u30ab\u30fc\u30d7\u5973\u5b50\n",
        "awerd = \u30c8\u30c3\u30d7\u30c6\u30f3\n",
        "\n",
        "\n"
       ]
      }
     ],
     "prompt_number": 147
    },
    {
     "cell_type": "code",
     "collapsed": false,
     "input": [],
     "language": "python",
     "metadata": {},
     "outputs": []
    },
    {
     "cell_type": "markdown",
     "metadata": {},
     "source": [
      "###Python 3\u7cfb\u306e\u5834\u5408\n",
      "\u8f9e\u66f8\u306e2\u6b21\u5143\u7684\u306a\u5f62\u5f0f\u307e\u3067\u4f5c\u3063\u3066\u3057\u307e\u3048\u3070\u3001\u5f8c\u306fconfigperser.Configperser()\u306e\u30a4\u30f3\u30b9\u30bf\u30f3\u30b9\u306b\u3042\u308bwrite\u306b\u6e21\u3059"
     ]
    },
    {
     "cell_type": "code",
     "collapsed": false,
     "input": [],
     "language": "python",
     "metadata": {},
     "outputs": []
    },
    {
     "cell_type": "code",
     "collapsed": false,
     "input": [],
     "language": "python",
     "metadata": {},
     "outputs": []
    },
    {
     "cell_type": "markdown",
     "metadata": {},
     "source": [
      "#JSON\u30d5\u30a1\u30a4\u30eb\u8aad\u307f\u66f8\u304d"
     ]
    },
    {
     "cell_type": "code",
     "collapsed": false,
     "input": [
      "text_print(\"./exam.json\")"
     ],
     "language": "python",
     "metadata": {},
     "outputs": []
    },
    {
     "cell_type": "markdown",
     "metadata": {},
     "source": [
      "##\u8aad\u307f\u8fbc\u307f"
     ]
    },
    {
     "cell_type": "code",
     "collapsed": false,
     "input": [
      "import json"
     ],
     "language": "python",
     "metadata": {},
     "outputs": []
    },
    {
     "cell_type": "code",
     "collapsed": false,
     "input": [
      "with open(\"./exam.json\") as json_fp:\n",
      "    load_exam_json = json.load(json_fp)"
     ],
     "language": "python",
     "metadata": {},
     "outputs": []
    },
    {
     "cell_type": "code",
     "collapsed": false,
     "input": [
      "pprint(load_exam_json)"
     ],
     "language": "python",
     "metadata": {},
     "outputs": []
    },
    {
     "cell_type": "code",
     "collapsed": false,
     "input": [
      "load_exam_json[\"general\"]"
     ],
     "language": "python",
     "metadata": {},
     "outputs": []
    },
    {
     "cell_type": "markdown",
     "metadata": {},
     "source": [
      "##\u66f8\u304d\u51fa\u3057"
     ]
    },
    {
     "cell_type": "code",
     "collapsed": false,
     "input": [
      "pprint(ryukougo_taisyo)"
     ],
     "language": "python",
     "metadata": {},
     "outputs": []
    },
    {
     "cell_type": "code",
     "collapsed": false,
     "input": [
      "help(json.dump)"
     ],
     "language": "python",
     "metadata": {},
     "outputs": []
    },
    {
     "cell_type": "code",
     "collapsed": false,
     "input": [
      "export_json_fs = open(\"./export_ryukougo.json\", \"w\", encoding=\"utf-8\") \n",
      "json.dump(ryukougo_taisyo, export_json_fs, indent=2,ensure_ascii=False)"
     ],
     "language": "python",
     "metadata": {},
     "outputs": []
    },
    {
     "cell_type": "code",
     "collapsed": false,
     "input": [
      "cat \"./export_ryukougo.json\""
     ],
     "language": "python",
     "metadata": {},
     "outputs": []
    },
    {
     "cell_type": "markdown",
     "metadata": {},
     "source": [
      "#YAML \u8aad\u307f\u66f8\u304d"
     ]
    },
    {
     "cell_type": "code",
     "collapsed": false,
     "input": [
      "text_print(\"./exam.yaml\")"
     ],
     "language": "python",
     "metadata": {},
     "outputs": []
    },
    {
     "cell_type": "markdown",
     "metadata": {},
     "source": [
      "##\u8aad\u307f\u8fbc\u307f"
     ]
    },
    {
     "cell_type": "code",
     "collapsed": false,
     "input": [
      "import yaml"
     ],
     "language": "python",
     "metadata": {},
     "outputs": []
    },
    {
     "cell_type": "code",
     "collapsed": false,
     "input": [
      "with open(\"./exam.yaml\") as yaml_fs:\n",
      "    exam_yaml = yaml.load(yaml_fs)"
     ],
     "language": "python",
     "metadata": {},
     "outputs": []
    },
    {
     "cell_type": "code",
     "collapsed": false,
     "input": [
      "from  pprint import pprint as pprint \n",
      "pprint(exam_yaml)"
     ],
     "language": "python",
     "metadata": {},
     "outputs": []
    },
    {
     "cell_type": "markdown",
     "metadata": {},
     "source": [
      "##\u66f8\u304d\u51fa\u3057"
     ]
    },
    {
     "cell_type": "code",
     "collapsed": false,
     "input": [
      "pprint(ryukougo_taisyo,)"
     ],
     "language": "python",
     "metadata": {},
     "outputs": []
    },
    {
     "cell_type": "code",
     "collapsed": false,
     "input": [
      "pprint(yaml.dump(ryukougo_taisyo, encoding='utf8', allow_unicode=True))"
     ],
     "language": "python",
     "metadata": {},
     "outputs": []
    },
    {
     "cell_type": "code",
     "collapsed": false,
     "input": [
      "with open(\"./export_ryukougo.yaml\", \"w\") as export_fs:\n",
      "    yaml.dump(ryukougo_taisyo, export_fs, encoding='utf8', allow_unicode=True)"
     ],
     "language": "python",
     "metadata": {},
     "outputs": []
    },
    {
     "cell_type": "code",
     "collapsed": false,
     "input": [
      "cat \"./export_ryukougo.yaml\""
     ],
     "language": "python",
     "metadata": {},
     "outputs": []
    },
    {
     "cell_type": "code",
     "collapsed": false,
     "input": [],
     "language": "python",
     "metadata": {},
     "outputs": []
    }
   ],
   "metadata": {}
  }
 ]
}