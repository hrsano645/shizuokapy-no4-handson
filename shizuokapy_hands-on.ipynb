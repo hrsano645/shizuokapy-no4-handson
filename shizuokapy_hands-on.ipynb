{
 "metadata": {
  "name": "",
  "signature": "sha256:1fc4927aaac5a3dde2bd5457e00c297c535231c4586dbc92e65809c248553785"
 },
 "nbformat": 3,
 "nbformat_minor": 0,
 "worksheets": [
  {
   "cells": [
    {
     "cell_type": "markdown",
     "metadata": {},
     "source": [
      "#\u524d\u6e96\u5099\u3067\u3059"
     ]
    },
    {
     "cell_type": "code",
     "collapsed": false,
     "input": [
      "from pprint import pprint"
     ],
     "language": "python",
     "metadata": {},
     "outputs": [],
     "prompt_number": 19
    },
    {
     "cell_type": "code",
     "collapsed": false,
     "input": [
      "from collections import OrderedDict\n",
      "ryukougo_taisyo = OrderedDict()\n",
      "ryukougo_taisyo[\"no1\"] = {\"word\":\"\u30c0\u30e1\u3088\uff5e\u30c0\u30e1\u30c0\u30e1\",\"awerd\":\"\u5927\u8cde\", \"winner_name\":\"\u65e5\u672c\u30a8\u30ec\u30ad\u30c6\u30eb\u9023\u5408\u6a4b\u672c\u5c0f\u96ea\u3055\u3093\u3068\u4e2d\u91ce\u8061\u5b50\u3055\u3093\"}\n",
      "ryukougo_taisyo[\"no2\"] = {\"word\":\"\u96c6\u56e3\u7684\u81ea\u885b\u6a29\",\"awerd\":\"\u5927\u8cde\",\"winner_name\":\"none\"}\n",
      "ryukougo_taisyo[\"no3\"] = {\"word\":\"\u3042\u308a\u306e\u307e\u307e\u3067\",\"awerd\":\"\u30c8\u30c3\u30d7\u30c6\u30f3\",\"winner_name\":\"\u30c7\u30a3\u30ba\u30cb\u30fc\u300e\u30a2\u30ca\u3068\u96ea\u306e\u5973\u738b\u300f\u30c1\u30fc\u30e0\"}\n",
      "ryukougo_taisyo[\"no4\"] = {\"word\":\"\u30ab\u30fc\u30d7\u5973\u5b50\",\"awerd\":\"\u30c8\u30c3\u30d7\u30c6\u30f3\",\"winner_name\":[\"\u300c\u7403\u754c\u30e9\u30f4\u30a1\u30fc\u30ba\u300d\u306e\u4f5c\u8005\u77f3\u7530\u6566\u5b50\u3055\u3093\", \"\u300c\u30ab\u30fc\u30d7\u5973\u5b50\u300d\u795e3(\u30b9\u30ea\u30fc)\u3068\u547c\u3070\u308c\u308b\u5927\u4e95\u667a\u4fdd\u5b50\u3055\u3093\u3001\u53e4\u7530\u3061\u3055\u3053\u3055\u3093\u3001\u5929\u91ce\u6075\u3055\u3093\"]}\n",
      "ryukougo_taisyo[\"no5\"] = {\"word\":\"\u58c1\u30c9\u30f3\",\"awerd\":\"\u30c8\u30c3\u30d7\u30c6\u30f3\",\"winner_name\":\"\u6620\u753b\u300cL\u2661DK\u300d\"}\n",
      "ryukougo_taisyo[\"no6\"] = {\"word\":\"\u5371\u967a\u30c9\u30e9\u30c3\u30b0\",\"awerd\":\"\u30c8\u30c3\u30d7\u30c6\u30f3\",\"winner_name\":\"\u5143\u56fd\u5bb6\u516c\u5b89\u59d4\u54e1\u9577\u306e\u53e4\u5c4b\u572d\u53f8\u3055\u3093\"}\n",
      "ryukougo_taisyo[\"no7\"] = {\"word\":\"\u3054\u304d\u3052\u3093\u3088\u3046\",\"awerd\":\"\u30c8\u30c3\u30d7\u30c6\u30f3\",\"winner_name\":\"\u7f8e\u8f2a\u660e\u5b8f\u3055\u3093\"}\n",
      "ryukougo_taisyo[\"no8\"] = {\"word\":\"\u30de\u30bf\u30cf\u30e9\",\"awerd\":\"\u30c8\u30c3\u30d7\u30c6\u30f3\",\"winner_name\":\"\u6749\u6d66\u6d69\u7f8e\u3055\u3093\"}\n",
      "ryukougo_taisyo[\"no9\"] = {\"word\":\"\u5996\u602a\u30a6\u30a9\u30c3\u30c1\",\"awerd\":\"\u30c8\u30c3\u30d7\u30c6\u30f3\",\"winner_name\":\"\u5996\u602a\u30a6\u30a9\u30c3\u30c1 \u30af\u30ea\u30a8\u30a4\u30c6\u30a3\u30d6\u30d7\u30ed\u30c7\u30e5\u30fc\u30b5\u30fc\uff0f\u4f01\u753b\u30fb\u30b7\u30ca\u30ea\u30aa\u539f\u6848\u3001\u65e5\u91ce\u6643\u535a\u3055\u3093\"}\n",
      "ryukougo_taisyo[\"no10\"] = {\"word\":\"\u30ec\u30b8\u30a7\u30f3\u30c9\",\"awerd\":\"\u30c8\u30c3\u30d7\u30c6\u30f3\",\"winner_name\":[\"\u30b9\u30ad\u30fc\u30b8\u30e3\u30f3\u30d7\u7af6\u6280\u306b\u304a\u3051\u308b\u30ec\u30b8\u30a7\u30f3\u30c9\u3001\u845b\u897f\u7d00\u660e\u3055\u3093\",\"\u30b4\u30eb\u30d5\u754c\u306e\u30ec\u30b8\u30a7\u30f3\u30c9\u3001\u9752\u6728\u529f\u3055\u3093\",\"\u7403\u754c\u306e\u30ec\u30b8\u30a7\u30f3\u30c9\u9244\u4eba\u5de6\u8155\u6295\u624b\u3001\u5c71\u672c\u660c\u5e83\u3055\u3093\"]}"
     ],
     "language": "python",
     "metadata": {},
     "outputs": [],
     "prompt_number": 20
    },
    {
     "cell_type": "code",
     "collapsed": false,
     "input": [
      "pprint(ryukougo_taisyo)"
     ],
     "language": "python",
     "metadata": {},
     "outputs": [
      {
       "output_type": "stream",
       "stream": "stdout",
       "text": [
        "{'no1': {'awerd': '\u5927\u8cde',\n",
        "         'winner_name': '\u65e5\u672c\u30a8\u30ec\u30ad\u30c6\u30eb\u9023\u5408\u6a4b\u672c\u5c0f\u96ea\u3055\u3093\u3068\u4e2d\u91ce\u8061\u5b50\u3055\u3093',\n",
        "         'word': '\u30c0\u30e1\u3088\uff5e\u30c0\u30e1\u30c0\u30e1'},\n",
        " 'no2': {'awerd': '\u5927\u8cde', 'winner_name': 'none', 'word': '\u96c6\u56e3\u7684\u81ea\u885b\u6a29'},\n",
        " 'no3': {'awerd': '\u30c8\u30c3\u30d7\u30c6\u30f3',\n",
        "         'winner_name': '\u30c7\u30a3\u30ba\u30cb\u30fc\u300e\u30a2\u30ca\u3068\u96ea\u306e\u5973\u738b\u300f\u30c1\u30fc\u30e0',\n",
        "         'word': '\u3042\u308a\u306e\u307e\u307e\u3067'},\n",
        " 'no4': {'awerd': '\u30c8\u30c3\u30d7\u30c6\u30f3',\n",
        "         'winner_name': ['\u300c\u7403\u754c\u30e9\u30f4\u30a1\u30fc\u30ba\u300d\u306e\u4f5c\u8005\u77f3\u7530\u6566\u5b50\u3055\u3093',\n",
        "                         '\u300c\u30ab\u30fc\u30d7\u5973\u5b50\u300d\u795e3(\u30b9\u30ea\u30fc)\u3068\u547c\u3070\u308c\u308b\u5927\u4e95\u667a\u4fdd\u5b50\u3055\u3093\u3001\u53e4\u7530\u3061\u3055\u3053\u3055\u3093\u3001\u5929\u91ce\u6075\u3055\u3093'],\n",
        "         'word': '\u30ab\u30fc\u30d7\u5973\u5b50'},\n",
        " 'no5': {'awerd': '\u30c8\u30c3\u30d7\u30c6\u30f3', 'winner_name': '\u6620\u753b\u300cL\u2661DK\u300d', 'word': '\u58c1\u30c9\u30f3'},\n",
        " 'no6': {'awerd': '\u30c8\u30c3\u30d7\u30c6\u30f3', 'winner_name': '\u5143\u56fd\u5bb6\u516c\u5b89\u59d4\u54e1\u9577\u306e\u53e4\u5c4b\u572d\u53f8\u3055\u3093', 'word': '\u5371\u967a\u30c9\u30e9\u30c3\u30b0'},\n",
        " 'no7': {'awerd': '\u30c8\u30c3\u30d7\u30c6\u30f3', 'winner_name': '\u7f8e\u8f2a\u660e\u5b8f\u3055\u3093', 'word': '\u3054\u304d\u3052\u3093\u3088\u3046'},\n",
        " 'no8': {'awerd': '\u30c8\u30c3\u30d7\u30c6\u30f3', 'winner_name': '\u6749\u6d66\u6d69\u7f8e\u3055\u3093', 'word': '\u30de\u30bf\u30cf\u30e9'},\n",
        " 'no9': {'awerd': '\u30c8\u30c3\u30d7\u30c6\u30f3',\n",
        "         'winner_name': '\u5996\u602a\u30a6\u30a9\u30c3\u30c1 \u30af\u30ea\u30a8\u30a4\u30c6\u30a3\u30d6\u30d7\u30ed\u30c7\u30e5\u30fc\u30b5\u30fc\uff0f\u4f01\u753b\u30fb\u30b7\u30ca\u30ea\u30aa\u539f\u6848\u3001\u65e5\u91ce\u6643\u535a\u3055\u3093',\n",
        "         'word': '\u5996\u602a\u30a6\u30a9\u30c3\u30c1'},\n",
        " 'no10': {'awerd': '\u30c8\u30c3\u30d7\u30c6\u30f3',\n",
        "          'winner_name': ['\u30b9\u30ad\u30fc\u30b8\u30e3\u30f3\u30d7\u7af6\u6280\u306b\u304a\u3051\u308b\u30ec\u30b8\u30a7\u30f3\u30c9\u3001\u845b\u897f\u7d00\u660e\u3055\u3093',\n",
        "                          '\u30b4\u30eb\u30d5\u754c\u306e\u30ec\u30b8\u30a7\u30f3\u30c9\u3001\u9752\u6728\u529f\u3055\u3093',\n",
        "                          '\u7403\u754c\u306e\u30ec\u30b8\u30a7\u30f3\u30c9\u9244\u4eba\u5de6\u8155\u6295\u624b\u3001\u5c71\u672c\u660c\u5e83\u3055\u3093'],\n",
        "          'word': '\u30ec\u30b8\u30a7\u30f3\u30c9'}}\n"
       ]
      }
     ],
     "prompt_number": 21
    },
    {
     "cell_type": "markdown",
     "metadata": {},
     "source": [
      "#INI\u30d5\u30a1\u30a4\u30eb\u8aad\u307f\u66f8\u304d : Configperser"
     ]
    },
    {
     "cell_type": "code",
     "collapsed": false,
     "input": [
      "!cat ./exam.ini"
     ],
     "language": "python",
     "metadata": {},
     "outputs": [
      {
       "output_type": "stream",
       "stream": "stdout",
       "text": [
        "\r\n",
        "[general]\r\n",
        "name=\u201cshizuoka.py #4\u201d\r\n",
        "venue_name=\u201c\u30b3\u30df\u30e5\u30cb\u30c6\u30a3F\"\r\n",
        "address=\u201c\u9759\u5ca1\u770c\u5bcc\u58eb\u5e02\u5409\u539f2-10\"\r\n",
        "zipcode=\u201c417-0051\u201d\r\n",
        "\r\n",
        "[members] # \u4eca\u65e5\u51fa\u5e2d\u306e\u30e1\u30f3\u30d0\u30fc\u4e00\u89a7\u3092\u4f5c\u308b\r\n",
        "no1 = \"hrsano645\"\r\n",
        "no2 = \"kzfmix\"\r\n",
        "no3 = \"bonohu\"\r\n",
        "no4 = \"oec014\"\r\n",
        "no5 = \"aoshiman\"\r\n",
        "no6 = \"ando_ando_ando\"\r\n",
        "no7 = \"y_sama\"\r\n",
        "no8 = \"no85\"\r\n",
        "no9 = \"Satoooooooooooo\"\r\n",
        "no10 =\"alice\"\r\n",
        "no11 =\"tanizawa_yasuhiro\"\r\n",
        "no12 =\"ringtaro\"\r\n",
        "\r\n",
        "[no1]\r\n",
        "entry_status=\u201centry\u201d\r\n",
        "twitter_id=\u201chrs_sano645\u201d\r\n",
        "\r\n",
        "[no2]\r\n",
        "entry_status=\"entry\"\r\n",
        "\r\n",
        "[no3]\r\n",
        "entry_status=\"entry\"\r\n",
        "\r\n",
        "[no4]\r\n",
        "entry_status=\"entry\"\r\n",
        "\r\n",
        "[no5]\r\n",
        "entry_status=\"entry\"\r\n",
        "\r\n",
        "[no6]\r\n",
        "entry_status=\"entry\"\r\n",
        "\r\n",
        "[no7]\r\n",
        "entry_status=\"entry\"\r\n",
        "\r\n",
        "[no8]\r\n",
        "entry_status=\"entry\"\r\n",
        "\r\n",
        "[no9]\r\n",
        "entry_status=\"cancelled\"\r\n",
        "\r\n",
        "[no10]\r\n",
        "entry_status= \"entry\"\r\n",
        "\r\n",
        "[no11]\r\n",
        "entry_status= \"entry\"\r\n",
        "\r\n",
        "[no12]\r\n",
        "entry_status= \"entry\"\r\n"
       ]
      }
     ],
     "prompt_number": 22
    },
    {
     "cell_type": "code",
     "collapsed": false,
     "input": [
      "import configparser"
     ],
     "language": "python",
     "metadata": {},
     "outputs": [],
     "prompt_number": 23
    },
    {
     "cell_type": "markdown",
     "metadata": {},
     "source": [
      "## \u8aad\u307f\u8fbc\u307f\n",
      "###Python2\u7cfb\n",
      "Python3\u7cfb\u3067\u306f\u30ec\u30ac\u30b7\u30fcAPI\u3068\u547c\u3070\u308c\u3066\u3044\u307e\u3059"
     ]
    },
    {
     "cell_type": "code",
     "collapsed": false,
     "input": [
      "load_exam_ini = configparser.ConfigParser()"
     ],
     "language": "python",
     "metadata": {},
     "outputs": [],
     "prompt_number": 24
    },
    {
     "cell_type": "code",
     "collapsed": false,
     "input": [
      "load_exam_ini.read(\"./exam.ini\")"
     ],
     "language": "python",
     "metadata": {},
     "outputs": [
      {
       "metadata": {},
       "output_type": "pyout",
       "prompt_number": 25,
       "text": [
        "['./exam.ini']"
       ]
      }
     ],
     "prompt_number": 25
    },
    {
     "cell_type": "code",
     "collapsed": false,
     "input": [
      "load_exam_ini.sections()"
     ],
     "language": "python",
     "metadata": {},
     "outputs": [
      {
       "metadata": {},
       "output_type": "pyout",
       "prompt_number": 26,
       "text": [
        "['general',\n",
        " 'members',\n",
        " 'no1',\n",
        " 'no2',\n",
        " 'no3',\n",
        " 'no4',\n",
        " 'no5',\n",
        " 'no6',\n",
        " 'no7',\n",
        " 'no8',\n",
        " 'no9',\n",
        " 'no10',\n",
        " 'no11',\n",
        " 'no12']"
       ]
      }
     ],
     "prompt_number": 26
    },
    {
     "cell_type": "code",
     "collapsed": false,
     "input": [
      "load_exam_ini.options(\"general\")"
     ],
     "language": "python",
     "metadata": {},
     "outputs": [
      {
       "metadata": {},
       "output_type": "pyout",
       "prompt_number": 27,
       "text": [
        "['name', 'venue_name', 'address', 'zipcode']"
       ]
      }
     ],
     "prompt_number": 27
    },
    {
     "cell_type": "code",
     "collapsed": false,
     "input": [
      "load_exam_ini.options(\"no1\")"
     ],
     "language": "python",
     "metadata": {},
     "outputs": [
      {
       "metadata": {},
       "output_type": "pyout",
       "prompt_number": 28,
       "text": [
        "['entry_status', 'twitter_id']"
       ]
      }
     ],
     "prompt_number": 28
    },
    {
     "cell_type": "code",
     "collapsed": false,
     "input": [
      "load_exam_ini.get(\"general\",\"name\")"
     ],
     "language": "python",
     "metadata": {},
     "outputs": [
      {
       "metadata": {},
       "output_type": "pyout",
       "prompt_number": 29,
       "text": [
        "'\u201cshizuoka.py #4\u201d'"
       ]
      }
     ],
     "prompt_number": 29
    },
    {
     "cell_type": "code",
     "collapsed": false,
     "input": [
      "\"name\" in load_exam_ini.options(\"general\")"
     ],
     "language": "python",
     "metadata": {},
     "outputs": [
      {
       "metadata": {},
       "output_type": "pyout",
       "prompt_number": 30,
       "text": [
        "True"
       ]
      }
     ],
     "prompt_number": 30
    },
    {
     "cell_type": "markdown",
     "metadata": {},
     "source": [
      "###python 3\u7cfb\u306e\u5834\u5408\n",
      "\u8f9e\u66f8\u30e9\u30a4\u30af\u306a\u30a2\u30af\u30bb\u30b9\u3082\u51fa\u6765\u307e\u3059\u3002ini\u30d5\u30a1\u30a4\u30eb\u306e\u5f62\u5f0f\u4e0a\u30012\u6b21\u5143\u914d\u5217\u7684\u306b\u3057\u304b\u5229\u7528\u3067\u304d\u306a\u3044\u306e\u3067\u3061\u3087\u3063\u3068\u7269\u8db3\u308a\u306a\u3044\u304b\u3082\u3057\u308c\u307e\u305b\u3093\n",
      "\n",
      "ini_config[\"section\"][\"option\"]"
     ]
    },
    {
     "cell_type": "code",
     "collapsed": false,
     "input": [
      "list(load_exam_ini)"
     ],
     "language": "python",
     "metadata": {},
     "outputs": [
      {
       "metadata": {},
       "output_type": "pyout",
       "prompt_number": 31,
       "text": [
        "['DEFAULT',\n",
        " 'general',\n",
        " 'members',\n",
        " 'no1',\n",
        " 'no2',\n",
        " 'no3',\n",
        " 'no4',\n",
        " 'no5',\n",
        " 'no6',\n",
        " 'no7',\n",
        " 'no8',\n",
        " 'no9',\n",
        " 'no10',\n",
        " 'no11',\n",
        " 'no12']"
       ]
      }
     ],
     "prompt_number": 31
    },
    {
     "cell_type": "code",
     "collapsed": false,
     "input": [
      "load_exam_ini[\"general\"]"
     ],
     "language": "python",
     "metadata": {},
     "outputs": [
      {
       "metadata": {},
       "output_type": "pyout",
       "prompt_number": 32,
       "text": [
        "<Section: general>"
       ]
      }
     ],
     "prompt_number": 32
    },
    {
     "cell_type": "code",
     "collapsed": false,
     "input": [
      "load_exam_ini[\"general\"][\"name\"]"
     ],
     "language": "python",
     "metadata": {},
     "outputs": [
      {
       "metadata": {},
       "output_type": "pyout",
       "prompt_number": 33,
       "text": [
        "'\u201cshizuoka.py #4\u201d'"
       ]
      }
     ],
     "prompt_number": 33
    },
    {
     "cell_type": "markdown",
     "metadata": {},
     "source": [
      "##\u66f8\u304d\u51fa\u3057\n",
      "###python 2\u7cfb\u306e\u5834\u5408\n"
     ]
    },
    {
     "cell_type": "code",
     "collapsed": false,
     "input": [
      "export_ini = configparser.ConfigParser()"
     ],
     "language": "python",
     "metadata": {},
     "outputs": [],
     "prompt_number": 34
    },
    {
     "cell_type": "code",
     "collapsed": false,
     "input": [
      "#\u5b9f\u306f\u3053\u308c\u3067\u306f\u6b63\u3057\u304f\u52d5\u304b\u306a\u3044\u3002\u30aa\u30d7\u30b7\u30e7\u30f3\u306e\u5024\u304c\u30ea\u30b9\u30c8\u306a\u306e\u3067\u5358\u7d14\u306a\u6d41\u3057\u8fbc\u307f\u306f\u51fa\u6765\u306a\u3044\n",
      "#\u591a\u6b21\u5143\u7684\u306a\u6271\u3044\u306f\u3001\u72ec\u81ea\u306a\u51e6\u7406\u3092\u5165\u308c\u308b\u5fc5\u8981\u304c\u3042\u308b\n",
      "for sect_k, sect_v_d in ryukougo_taisyo.items():\n",
      "    export_ini.add_section(sect_k)\n",
      "    for opt_k, opt_v in sect_v_d.items():\n",
      "        export_ini.set(sect_k, opt_k, opt_v)\n",
      "    "
     ],
     "language": "python",
     "metadata": {},
     "outputs": [
      {
       "ename": "TypeError",
       "evalue": "option values must be strings",
       "output_type": "pyerr",
       "traceback": [
        "\u001b[0;31m---------------------------------------------------------------------------\u001b[0m\n\u001b[0;31mTypeError\u001b[0m                                 Traceback (most recent call last)",
        "\u001b[0;32m<ipython-input-35-5a15259ff14f>\u001b[0m in \u001b[0;36m<module>\u001b[0;34m()\u001b[0m\n\u001b[1;32m      4\u001b[0m     \u001b[0mexport_ini\u001b[0m\u001b[0;34m.\u001b[0m\u001b[0madd_section\u001b[0m\u001b[0;34m(\u001b[0m\u001b[0msect_k\u001b[0m\u001b[0;34m)\u001b[0m\u001b[0;34m\u001b[0m\u001b[0m\n\u001b[1;32m      5\u001b[0m     \u001b[0;32mfor\u001b[0m \u001b[0mopt_k\u001b[0m\u001b[0;34m,\u001b[0m \u001b[0mopt_v\u001b[0m \u001b[0;32min\u001b[0m \u001b[0msect_v_d\u001b[0m\u001b[0;34m.\u001b[0m\u001b[0mitems\u001b[0m\u001b[0;34m(\u001b[0m\u001b[0;34m)\u001b[0m\u001b[0;34m:\u001b[0m\u001b[0;34m\u001b[0m\u001b[0m\n\u001b[0;32m----> 6\u001b[0;31m         \u001b[0mexport_ini\u001b[0m\u001b[0;34m.\u001b[0m\u001b[0mset\u001b[0m\u001b[0;34m(\u001b[0m\u001b[0msect_k\u001b[0m\u001b[0;34m,\u001b[0m \u001b[0mopt_k\u001b[0m\u001b[0;34m,\u001b[0m \u001b[0mopt_v\u001b[0m\u001b[0;34m)\u001b[0m\u001b[0;34m\u001b[0m\u001b[0m\n\u001b[0m\u001b[1;32m      7\u001b[0m \u001b[0;34m\u001b[0m\u001b[0m\n",
        "\u001b[0;32m/usr/local/Cellar/python3/3.4.2_1/Frameworks/Python.framework/Versions/3.4/lib/python3.4/configparser.py\u001b[0m in \u001b[0;36mset\u001b[0;34m(self, section, option, value)\u001b[0m\n\u001b[1;32m   1164\u001b[0m         \"\"\"Set an option.  Extends RawConfigParser.set by validating type and\n\u001b[1;32m   1165\u001b[0m         interpolation syntax on the value.\"\"\"\n\u001b[0;32m-> 1166\u001b[0;31m         \u001b[0mself\u001b[0m\u001b[0;34m.\u001b[0m\u001b[0m_validate_value_types\u001b[0m\u001b[0;34m(\u001b[0m\u001b[0moption\u001b[0m\u001b[0;34m=\u001b[0m\u001b[0moption\u001b[0m\u001b[0;34m,\u001b[0m \u001b[0mvalue\u001b[0m\u001b[0;34m=\u001b[0m\u001b[0mvalue\u001b[0m\u001b[0;34m)\u001b[0m\u001b[0;34m\u001b[0m\u001b[0m\n\u001b[0m\u001b[1;32m   1167\u001b[0m         \u001b[0msuper\u001b[0m\u001b[0;34m(\u001b[0m\u001b[0;34m)\u001b[0m\u001b[0;34m.\u001b[0m\u001b[0mset\u001b[0m\u001b[0;34m(\u001b[0m\u001b[0msection\u001b[0m\u001b[0;34m,\u001b[0m \u001b[0moption\u001b[0m\u001b[0;34m,\u001b[0m \u001b[0mvalue\u001b[0m\u001b[0;34m)\u001b[0m\u001b[0;34m\u001b[0m\u001b[0m\n\u001b[1;32m   1168\u001b[0m \u001b[0;34m\u001b[0m\u001b[0m\n",
        "\u001b[0;32m/usr/local/Cellar/python3/3.4.2_1/Frameworks/Python.framework/Versions/3.4/lib/python3.4/configparser.py\u001b[0m in \u001b[0;36m_validate_value_types\u001b[0;34m(self, section, option, value)\u001b[0m\n\u001b[1;32m   1153\u001b[0m         \u001b[0;32mif\u001b[0m \u001b[0;32mnot\u001b[0m \u001b[0mself\u001b[0m\u001b[0;34m.\u001b[0m\u001b[0m_allow_no_value\u001b[0m \u001b[0;32mor\u001b[0m \u001b[0mvalue\u001b[0m\u001b[0;34m:\u001b[0m\u001b[0;34m\u001b[0m\u001b[0m\n\u001b[1;32m   1154\u001b[0m             \u001b[0;32mif\u001b[0m \u001b[0;32mnot\u001b[0m \u001b[0misinstance\u001b[0m\u001b[0;34m(\u001b[0m\u001b[0mvalue\u001b[0m\u001b[0;34m,\u001b[0m \u001b[0mstr\u001b[0m\u001b[0;34m)\u001b[0m\u001b[0;34m:\u001b[0m\u001b[0;34m\u001b[0m\u001b[0m\n\u001b[0;32m-> 1155\u001b[0;31m                 \u001b[0;32mraise\u001b[0m \u001b[0mTypeError\u001b[0m\u001b[0;34m(\u001b[0m\u001b[0;34m\"option values must be strings\"\u001b[0m\u001b[0;34m)\u001b[0m\u001b[0;34m\u001b[0m\u001b[0m\n\u001b[0m\u001b[1;32m   1156\u001b[0m \u001b[0;34m\u001b[0m\u001b[0m\n\u001b[1;32m   1157\u001b[0m \u001b[0;34m\u001b[0m\u001b[0m\n",
        "\u001b[0;31mTypeError\u001b[0m: option values must be strings"
       ]
      }
     ],
     "prompt_number": 35
    },
    {
     "cell_type": "code",
     "collapsed": false,
     "input": [
      "#\u5f8c\u306f\u66f8\u304d\u51fa\u3057\u305f\u3044\u30d5\u30a1\u30a4\u30eb\u540d\u3067open\u3067\u958b\u3044\u3066\u3001\u5024\u3092\u66f8\u304d\u51fa\u3057\u307e\u3059\n",
      "with open(\"./export_ryukougo.ini\", \"w\") as export_ini_fs:\n",
      "    export_ini.write(export_ini_fs)"
     ],
     "language": "python",
     "metadata": {},
     "outputs": [],
     "prompt_number": 36
    },
    {
     "cell_type": "code",
     "collapsed": false,
     "input": [
      "!cat \"./export_ryukougo.ini\""
     ],
     "language": "python",
     "metadata": {},
     "outputs": [
      {
       "output_type": "stream",
       "stream": "stdout",
       "text": [
        "[no1]\r\n",
        "word = \u30c0\u30e1\u3088\uff5e\u30c0\u30e1\u30c0\u30e1\r\n",
        "winner_name = \u65e5\u672c\u30a8\u30ec\u30ad\u30c6\u30eb\u9023\u5408\u6a4b\u672c\u5c0f\u96ea\u3055\u3093\u3068\u4e2d\u91ce\u8061\u5b50\u3055\u3093\r\n",
        "awerd = \u5927\u8cde\r\n",
        "\r\n",
        "[no2]\r\n",
        "word = \u96c6\u56e3\u7684\u81ea\u885b\u6a29\r\n",
        "winner_name = none\r\n",
        "awerd = \u5927\u8cde\r\n",
        "\r\n",
        "[no3]\r\n",
        "word = \u3042\u308a\u306e\u307e\u307e\u3067\r\n",
        "winner_name = \u30c7\u30a3\u30ba\u30cb\u30fc\u300e\u30a2\u30ca\u3068\u96ea\u306e\u5973\u738b\u300f\u30c1\u30fc\u30e0\r\n",
        "awerd = \u30c8\u30c3\u30d7\u30c6\u30f3\r\n",
        "\r\n",
        "[no4]\r\n",
        "word = \u30ab\u30fc\u30d7\u5973\u5b50\r\n",
        "\r\n"
       ]
      }
     ],
     "prompt_number": 37
    },
    {
     "cell_type": "code",
     "collapsed": false,
     "input": [],
     "language": "python",
     "metadata": {},
     "outputs": [],
     "prompt_number": 37
    },
    {
     "cell_type": "markdown",
     "metadata": {},
     "source": [
      "###Python 3\u7cfb\u306e\u5834\u5408\n",
      "\u8f9e\u66f8\u306e2\u6b21\u5143\u7684\u306a\u5f62\u5f0f\u307e\u3067\u4f5c\u3063\u3066\u3057\u307e\u3048\u3070\u3001\u5f8c\u306fconfigperser.Configperser()\u306e\u30a4\u30f3\u30b9\u30bf\u30f3\u30b9\u306b\u3042\u308bwrite\u306b\u6e21\u3059\n",
      "\n",
      "\u8ffd\u8a18:2014-12-06:\u9593\u9055\u3048\u3066\u307e\u3057\u305f\u3002configperser.Configperser()\u306e\u30a4\u30f3\u30b9\u30bf\u30f3\u30b9\u3092\u751f\u6210\u3057\u3066\u304b\u3089\u3001\u8f9e\u66f8\u30e9\u30a4\u30af\u306b\u8ffd\u52a0\u3092\u3057\u3001\u66f8\u304d\u51fa\u3057\u305f\u3044\u30d5\u30a1\u30a4\u30eb\u3092\u958b\u3044\u3066\u3001\u30a4\u30f3\u30b9\u30bf\u30f3\u30b9.write\u30e1\u30bd\u30c3\u30c9\u3092\u5b9f\u884c\u3057\u307e\u3059\u3002\n",
      "\n",
      "\u3082\u3063\u3068\u7c21\u5358\u306a\u65b9\u6cd5\u3001\u8f9e\u66f8\u30aa\u30d6\u30b8\u30a7\u30af\u30c8\u3092\u4e88\u3081\u4f5c\u3063\u3066\u3042\u308b\u4eca\u56de\u306e\u4f8b\u3092\u4f7f\u3046\u5834\u5408\u3068\u3057\u3066\u3001\u8f9e\u66f8\u3092\u751f\u6210\u3057\u305f\u5f8c\u306b\u3001read_dict\u30e1\u30bd\u30c3\u30c9\u306b\u8f9e\u66f8\u3092\u6e21\u3059\u65b9\u6cd5\u3067\u3059\u3002\u3053\u3061\u3089\u3092\u7d39\u4ecb\u3057\u307e\u3059\u3002"
     ]
    },
    {
     "cell_type": "code",
     "collapsed": false,
     "input": [
      "export_ini2 = configparser.ConfigParser()"
     ],
     "language": "python",
     "metadata": {},
     "outputs": [],
     "prompt_number": 38
    },
    {
     "cell_type": "code",
     "collapsed": false,
     "input": [
      "export_ini2.read_dict(ryukougo_taisyo)"
     ],
     "language": "python",
     "metadata": {},
     "outputs": [],
     "prompt_number": 39
    },
    {
     "cell_type": "code",
     "collapsed": true,
     "input": [
      "list(export_ini2[\"no1\"])"
     ],
     "language": "python",
     "metadata": {},
     "outputs": [
      {
       "metadata": {},
       "output_type": "pyout",
       "prompt_number": 40,
       "text": [
        "['word', 'winner_name', 'awerd']"
       ]
      }
     ],
     "prompt_number": 40
    },
    {
     "cell_type": "code",
     "collapsed": false,
     "input": [
      "export_ini2[\"no1\"][\"word\"]"
     ],
     "language": "python",
     "metadata": {},
     "outputs": [
      {
       "metadata": {},
       "output_type": "pyout",
       "prompt_number": 41,
       "text": [
        "'\u30c0\u30e1\u3088\uff5e\u30c0\u30e1\u30c0\u30e1'"
       ]
      }
     ],
     "prompt_number": 41
    },
    {
     "cell_type": "code",
     "collapsed": false,
     "input": [
      "#\u3053\u3061\u3089\u306f\u3001winner_name\u306f\u30ea\u30b9\u30c8\u5f62\u5f0f\u62c5\u3063\u3066\u3044\u307e\u3057\u305f\u304c\u3001\u6587\u5b57\u5217\u306b\u30b7\u30ea\u30a2\u30e9\u30a4\u30ba\u3055\u308c\u3066\u3044\u307e\u3057\u305f\u3002\u6ce8\u610f\u70b9\u3067\u3059\u3002\n",
      "export_ini2[\"no4\"][\"winner_name\"]"
     ],
     "language": "python",
     "metadata": {},
     "outputs": [
      {
       "metadata": {},
       "output_type": "pyout",
       "prompt_number": 42,
       "text": [
        "\"['\u300c\u7403\u754c\u30e9\u30f4\u30a1\u30fc\u30ba\u300d\u306e\u4f5c\u8005\u77f3\u7530\u6566\u5b50\u3055\u3093', '\u300c\u30ab\u30fc\u30d7\u5973\u5b50\u300d\u795e3(\u30b9\u30ea\u30fc)\u3068\u547c\u3070\u308c\u308b\u5927\u4e95\u667a\u4fdd\u5b50\u3055\u3093\u3001\u53e4\u7530\u3061\u3055\u3053\u3055\u3093\u3001\u5929\u91ce\u6075\u3055\u3093']\""
       ]
      }
     ],
     "prompt_number": 42
    },
    {
     "cell_type": "code",
     "collapsed": false,
     "input": [
      "with open(\"./export_ryukougo2.ini\", \"w\") as export_ini_fs:\n",
      "    export_ini2.write(export_ini_fs)\n",
      "!cat \"./export_ryukougo2.ini\""
     ],
     "language": "python",
     "metadata": {},
     "outputs": [
      {
       "output_type": "stream",
       "stream": "stdout",
       "text": [
        "[no1]\r\n",
        "word = \u30c0\u30e1\u3088\uff5e\u30c0\u30e1\u30c0\u30e1\r\n",
        "winner_name = \u65e5\u672c\u30a8\u30ec\u30ad\u30c6\u30eb\u9023\u5408\u6a4b\u672c\u5c0f\u96ea\u3055\u3093\u3068\u4e2d\u91ce\u8061\u5b50\u3055\u3093\r\n",
        "awerd = \u5927\u8cde\r\n",
        "\r\n",
        "[no2]\r\n",
        "word = \u96c6\u56e3\u7684\u81ea\u885b\u6a29\r\n",
        "winner_name = none\r\n",
        "awerd = \u5927\u8cde\r\n",
        "\r\n",
        "[no3]\r\n",
        "word = \u3042\u308a\u306e\u307e\u307e\u3067\r\n",
        "winner_name = \u30c7\u30a3\u30ba\u30cb\u30fc\u300e\u30a2\u30ca\u3068\u96ea\u306e\u5973\u738b\u300f\u30c1\u30fc\u30e0\r\n",
        "awerd = \u30c8\u30c3\u30d7\u30c6\u30f3\r\n",
        "\r\n",
        "[no4]\r\n",
        "word = \u30ab\u30fc\u30d7\u5973\u5b50\r\n",
        "winner_name = ['\u300c\u7403\u754c\u30e9\u30f4\u30a1\u30fc\u30ba\u300d\u306e\u4f5c\u8005\u77f3\u7530\u6566\u5b50\u3055\u3093', '\u300c\u30ab\u30fc\u30d7\u5973\u5b50\u300d\u795e3(\u30b9\u30ea\u30fc)\u3068\u547c\u3070\u308c\u308b\u5927\u4e95\u667a\u4fdd\u5b50\u3055\u3093\u3001\u53e4\u7530\u3061\u3055\u3053\u3055\u3093\u3001\u5929\u91ce\u6075\u3055\u3093']\r\n",
        "awerd = \u30c8\u30c3\u30d7\u30c6\u30f3\r\n",
        "\r\n",
        "[no5]\r\n",
        "word = \u58c1\u30c9\u30f3\r\n",
        "winner_name = \u6620\u753b\u300cL\u2661DK\u300d\r\n",
        "awerd = \u30c8\u30c3\u30d7\u30c6\u30f3\r\n",
        "\r\n",
        "[no6]\r\n",
        "word = \u5371\u967a\u30c9\u30e9\u30c3\u30b0\r\n",
        "winner_name = \u5143\u56fd\u5bb6\u516c\u5b89\u59d4\u54e1\u9577\u306e\u53e4\u5c4b\u572d\u53f8\u3055\u3093\r\n",
        "awerd = \u30c8\u30c3\u30d7\u30c6\u30f3\r\n",
        "\r\n",
        "[no7]\r\n",
        "word = \u3054\u304d\u3052\u3093\u3088\u3046\r\n",
        "winner_name = \u7f8e\u8f2a\u660e\u5b8f\u3055\u3093\r\n",
        "awerd = \u30c8\u30c3\u30d7\u30c6\u30f3\r\n",
        "\r\n",
        "[no8]\r\n",
        "word = \u30de\u30bf\u30cf\u30e9\r\n",
        "winner_name = \u6749\u6d66\u6d69\u7f8e\u3055\u3093\r\n",
        "awerd = \u30c8\u30c3\u30d7\u30c6\u30f3\r\n",
        "\r\n",
        "[no9]\r\n",
        "word = \u5996\u602a\u30a6\u30a9\u30c3\u30c1\r\n",
        "winner_name = \u5996\u602a\u30a6\u30a9\u30c3\u30c1 \u30af\u30ea\u30a8\u30a4\u30c6\u30a3\u30d6\u30d7\u30ed\u30c7\u30e5\u30fc\u30b5\u30fc\uff0f\u4f01\u753b\u30fb\u30b7\u30ca\u30ea\u30aa\u539f\u6848\u3001\u65e5\u91ce\u6643\u535a\u3055\u3093\r\n",
        "awerd = \u30c8\u30c3\u30d7\u30c6\u30f3\r\n",
        "\r\n",
        "[no10]\r\n",
        "word = \u30ec\u30b8\u30a7\u30f3\u30c9\r\n",
        "winner_name = ['\u30b9\u30ad\u30fc\u30b8\u30e3\u30f3\u30d7\u7af6\u6280\u306b\u304a\u3051\u308b\u30ec\u30b8\u30a7\u30f3\u30c9\u3001\u845b\u897f\u7d00\u660e\u3055\u3093', '\u30b4\u30eb\u30d5\u754c\u306e\u30ec\u30b8\u30a7\u30f3\u30c9\u3001\u9752\u6728\u529f\u3055\u3093', '\u7403\u754c\u306e\u30ec\u30b8\u30a7\u30f3\u30c9\u9244\u4eba\u5de6\u8155\u6295\u624b\u3001\u5c71\u672c\u660c\u5e83\u3055\u3093']\r\n",
        "awerd = \u30c8\u30c3\u30d7\u30c6\u30f3\r\n",
        "\r\n"
       ]
      }
     ],
     "prompt_number": 43
    },
    {
     "cell_type": "markdown",
     "metadata": {},
     "source": [
      "#JSON\u30d5\u30a1\u30a4\u30eb\u8aad\u307f\u66f8\u304d"
     ]
    },
    {
     "cell_type": "code",
     "collapsed": false,
     "input": [
      "!cat ./exam.json"
     ],
     "language": "python",
     "metadata": {},
     "outputs": [
      {
       "output_type": "stream",
       "stream": "stdout",
       "text": [
        "{\r\n",
        "    \"general\": {\r\n",
        "        \"name\": \"shizuoka.py No4\",\r\n",
        "        \"venue_name\": \"\u30b3\u30df\u30e5\u30cb\u30c6\u30a3F\",\r\n",
        "        \"address\": \"\u9759\u5ca1\u770c\u5bcc\u58eb\u5e02\u5409\u539f2-10\",\r\n",
        "        \"zipcode\": \"417-0051\",\r\n",
        "        \"json-comment\": \"\u66f8\u3051\u307e\u305b\u3093 :-(\"\r\n",
        "    },\r\n",
        "    \"members\": [\r\n",
        "            {\r\n",
        "                \"name\": \"hrsano645\",\r\n",
        "                \"entry_status\": \"entry\",\r\n",
        "                \"twitter_id\": \"hrs_sano645\"\r\n",
        "            },\r\n",
        "            {\r\n",
        "                \"name\": \"kzfmix\",\r\n",
        "                \"entry_status\": \"entry\"\r\n",
        "            },\r\n",
        "            {\r\n",
        "                \"name\": \"bonohu\",\r\n",
        "                \"entry_status\": \"entry\"\r\n",
        "            },\r\n",
        "            {\r\n",
        "                \"name\": \"oec014\",\r\n",
        "                \"entry_status\": \"entry\"\r\n",
        "            },\r\n",
        "            {\r\n",
        "                \"name\": \"aoshiman\",\r\n",
        "                \"entry_status\": \"entry\"\r\n",
        "            },\r\n",
        "            {\r\n",
        "                \"name\": \"ando_ando_ando\",\r\n",
        "                \"entry_status\": \"entry\"\r\n",
        "            },\r\n",
        "            {\r\n",
        "                \"name\": \"y_sama\",\r\n",
        "                \"entry_status\": \"entry\"\r\n",
        "            },\r\n",
        "            {\r\n",
        "                \"name\": \"no85\",\r\n",
        "                \"entry_status\": \"entry\"\r\n",
        "            },\r\n",
        "            {\r\n",
        "                \"name\": \"alice\",\r\n",
        "                \"entry_status\": \"entry\"\r\n",
        "            },\r\n",
        "            {\r\n",
        "                \"name\": \"tanizawa_yasuhiro\",\r\n",
        "                \"entry_status\": \"entry\"\r\n",
        "            },\r\n",
        "            {\r\n",
        "                \"name\": \"ringtaro\",\r\n",
        "                \"entry_status\": \"entry\"\r\n",
        "            },\r\n",
        "            {\r\n",
        "                \"name\": \"Satoooooooooooo\",\r\n",
        "                \"entry_status\": \"cancceled\"\r\n",
        "            }\r\n",
        "    ]\r\n",
        "}"
       ]
      }
     ],
     "prompt_number": 44
    },
    {
     "cell_type": "markdown",
     "metadata": {},
     "source": [
      "##\u8aad\u307f\u8fbc\u307f"
     ]
    },
    {
     "cell_type": "code",
     "collapsed": false,
     "input": [
      "import json"
     ],
     "language": "python",
     "metadata": {},
     "outputs": [],
     "prompt_number": 45
    },
    {
     "cell_type": "code",
     "collapsed": false,
     "input": [
      "with open(\"./exam.json\") as json_fp:\n",
      "    load_exam_json = json.load(json_fp)"
     ],
     "language": "python",
     "metadata": {},
     "outputs": [],
     "prompt_number": 46
    },
    {
     "cell_type": "code",
     "collapsed": false,
     "input": [
      "pprint(load_exam_json)"
     ],
     "language": "python",
     "metadata": {},
     "outputs": [
      {
       "output_type": "stream",
       "stream": "stdout",
       "text": [
        "{'general': {'address': '\u9759\u5ca1\u770c\u5bcc\u58eb\u5e02\u5409\u539f2-10',\n",
        "             'json-comment': '\u66f8\u3051\u307e\u305b\u3093 :-(',\n",
        "             'name': 'shizuoka.py No4',\n",
        "             'venue_name': '\u30b3\u30df\u30e5\u30cb\u30c6\u30a3F',\n",
        "             'zipcode': '417-0051'},\n",
        " 'members': [{'entry_status': 'entry',\n",
        "              'name': 'hrsano645',\n",
        "              'twitter_id': 'hrs_sano645'},\n",
        "             {'entry_status': 'entry', 'name': 'kzfmix'},\n",
        "             {'entry_status': 'entry', 'name': 'bonohu'},\n",
        "             {'entry_status': 'entry', 'name': 'oec014'},\n",
        "             {'entry_status': 'entry', 'name': 'aoshiman'},\n",
        "             {'entry_status': 'entry', 'name': 'ando_ando_ando'},\n",
        "             {'entry_status': 'entry', 'name': 'y_sama'},\n",
        "             {'entry_status': 'entry', 'name': 'no85'},\n",
        "             {'entry_status': 'entry', 'name': 'alice'},\n",
        "             {'entry_status': 'entry', 'name': 'tanizawa_yasuhiro'},\n",
        "             {'entry_status': 'entry', 'name': 'ringtaro'},\n",
        "             {'entry_status': 'cancceled', 'name': 'Satoooooooooooo'}]}\n"
       ]
      }
     ],
     "prompt_number": 47
    },
    {
     "cell_type": "code",
     "collapsed": false,
     "input": [],
     "language": "python",
     "metadata": {},
     "outputs": [],
     "prompt_number": 47
    },
    {
     "cell_type": "code",
     "collapsed": false,
     "input": [
      "type(load_exam_json)"
     ],
     "language": "python",
     "metadata": {},
     "outputs": [
      {
       "metadata": {},
       "output_type": "pyout",
       "prompt_number": 48,
       "text": [
        "dict"
       ]
      }
     ],
     "prompt_number": 48
    },
    {
     "cell_type": "code",
     "collapsed": false,
     "input": [
      "load_exam_json[\"general\"]"
     ],
     "language": "python",
     "metadata": {},
     "outputs": [
      {
       "metadata": {},
       "output_type": "pyout",
       "prompt_number": 49,
       "text": [
        "{'zipcode': '417-0051',\n",
        " 'name': 'shizuoka.py No4',\n",
        " 'venue_name': '\u30b3\u30df\u30e5\u30cb\u30c6\u30a3F',\n",
        " 'address': '\u9759\u5ca1\u770c\u5bcc\u58eb\u5e02\u5409\u539f2-10',\n",
        " 'json-comment': '\u66f8\u3051\u307e\u305b\u3093 :-('}"
       ]
      }
     ],
     "prompt_number": 49
    },
    {
     "cell_type": "markdown",
     "metadata": {},
     "source": [
      "##\u66f8\u304d\u51fa\u3057"
     ]
    },
    {
     "cell_type": "code",
     "collapsed": false,
     "input": [
      "pprint(ryukougo_taisyo)"
     ],
     "language": "python",
     "metadata": {},
     "outputs": [
      {
       "output_type": "stream",
       "stream": "stdout",
       "text": [
        "{'no1': {'awerd': '\u5927\u8cde',\n",
        "         'winner_name': '\u65e5\u672c\u30a8\u30ec\u30ad\u30c6\u30eb\u9023\u5408\u6a4b\u672c\u5c0f\u96ea\u3055\u3093\u3068\u4e2d\u91ce\u8061\u5b50\u3055\u3093',\n",
        "         'word': '\u30c0\u30e1\u3088\uff5e\u30c0\u30e1\u30c0\u30e1'},\n",
        " 'no2': {'awerd': '\u5927\u8cde', 'winner_name': 'none', 'word': '\u96c6\u56e3\u7684\u81ea\u885b\u6a29'},\n",
        " 'no3': {'awerd': '\u30c8\u30c3\u30d7\u30c6\u30f3',\n",
        "         'winner_name': '\u30c7\u30a3\u30ba\u30cb\u30fc\u300e\u30a2\u30ca\u3068\u96ea\u306e\u5973\u738b\u300f\u30c1\u30fc\u30e0',\n",
        "         'word': '\u3042\u308a\u306e\u307e\u307e\u3067'},\n",
        " 'no4': {'awerd': '\u30c8\u30c3\u30d7\u30c6\u30f3',\n",
        "         'winner_name': ['\u300c\u7403\u754c\u30e9\u30f4\u30a1\u30fc\u30ba\u300d\u306e\u4f5c\u8005\u77f3\u7530\u6566\u5b50\u3055\u3093',\n",
        "                         '\u300c\u30ab\u30fc\u30d7\u5973\u5b50\u300d\u795e3(\u30b9\u30ea\u30fc)\u3068\u547c\u3070\u308c\u308b\u5927\u4e95\u667a\u4fdd\u5b50\u3055\u3093\u3001\u53e4\u7530\u3061\u3055\u3053\u3055\u3093\u3001\u5929\u91ce\u6075\u3055\u3093'],\n",
        "         'word': '\u30ab\u30fc\u30d7\u5973\u5b50'},\n",
        " 'no5': {'awerd': '\u30c8\u30c3\u30d7\u30c6\u30f3', 'winner_name': '\u6620\u753b\u300cL\u2661DK\u300d', 'word': '\u58c1\u30c9\u30f3'},\n",
        " 'no6': {'awerd': '\u30c8\u30c3\u30d7\u30c6\u30f3', 'winner_name': '\u5143\u56fd\u5bb6\u516c\u5b89\u59d4\u54e1\u9577\u306e\u53e4\u5c4b\u572d\u53f8\u3055\u3093', 'word': '\u5371\u967a\u30c9\u30e9\u30c3\u30b0'},\n",
        " 'no7': {'awerd': '\u30c8\u30c3\u30d7\u30c6\u30f3', 'winner_name': '\u7f8e\u8f2a\u660e\u5b8f\u3055\u3093', 'word': '\u3054\u304d\u3052\u3093\u3088\u3046'},\n",
        " 'no8': {'awerd': '\u30c8\u30c3\u30d7\u30c6\u30f3', 'winner_name': '\u6749\u6d66\u6d69\u7f8e\u3055\u3093', 'word': '\u30de\u30bf\u30cf\u30e9'},\n",
        " 'no9': {'awerd': '\u30c8\u30c3\u30d7\u30c6\u30f3',\n",
        "         'winner_name': '\u5996\u602a\u30a6\u30a9\u30c3\u30c1 \u30af\u30ea\u30a8\u30a4\u30c6\u30a3\u30d6\u30d7\u30ed\u30c7\u30e5\u30fc\u30b5\u30fc\uff0f\u4f01\u753b\u30fb\u30b7\u30ca\u30ea\u30aa\u539f\u6848\u3001\u65e5\u91ce\u6643\u535a\u3055\u3093',\n",
        "         'word': '\u5996\u602a\u30a6\u30a9\u30c3\u30c1'},\n",
        " 'no10': {'awerd': '\u30c8\u30c3\u30d7\u30c6\u30f3',\n",
        "          'winner_name': ['\u30b9\u30ad\u30fc\u30b8\u30e3\u30f3\u30d7\u7af6\u6280\u306b\u304a\u3051\u308b\u30ec\u30b8\u30a7\u30f3\u30c9\u3001\u845b\u897f\u7d00\u660e\u3055\u3093',\n",
        "                          '\u30b4\u30eb\u30d5\u754c\u306e\u30ec\u30b8\u30a7\u30f3\u30c9\u3001\u9752\u6728\u529f\u3055\u3093',\n",
        "                          '\u7403\u754c\u306e\u30ec\u30b8\u30a7\u30f3\u30c9\u9244\u4eba\u5de6\u8155\u6295\u624b\u3001\u5c71\u672c\u660c\u5e83\u3055\u3093'],\n",
        "          'word': '\u30ec\u30b8\u30a7\u30f3\u30c9'}}\n"
       ]
      }
     ],
     "prompt_number": 50
    },
    {
     "cell_type": "code",
     "collapsed": false,
     "input": [
      "export_json_fs = open(\"./export_ryukougo.json\", \"w\", encoding=\"utf-8\") \n",
      "json.dump(ryukougo_taisyo, export_json_fs, indent=2,ensure_ascii=False)"
     ],
     "language": "python",
     "metadata": {},
     "outputs": [],
     "prompt_number": 51
    },
    {
     "cell_type": "code",
     "collapsed": false,
     "input": [
      "!cat \"./export_ryukougo.json\""
     ],
     "language": "python",
     "metadata": {},
     "outputs": [],
     "prompt_number": 52
    },
    {
     "cell_type": "markdown",
     "metadata": {},
     "source": [
      "#YAML \u8aad\u307f\u66f8\u304d"
     ]
    },
    {
     "cell_type": "code",
     "collapsed": false,
     "input": [
      "!cat \"./exam.yaml\""
     ],
     "language": "python",
     "metadata": {},
     "outputs": [
      {
       "output_type": "stream",
       "stream": "stdout",
       "text": [
        "general:\r\n",
        "    name: \u201cshizuoka.py No4\u201d\r\n",
        "    venue_name: \u201c\u30b3\u30df\u30e5\u30cb\u30c6\u30a3F\"\r\n",
        "    address: \u201c\u9759\u5ca1\u770c\u5bcc\u58eb\u5e02\u5409\u539f2-10\"\r\n",
        "    zipcode: \u201c417-0051\u201d\r\n",
        "\r\n",
        "members:\r\n",
        "    -\r\n",
        "        name: \"hrsano645\"\r\n",
        "        entry_status: \"entry\"\r\n",
        "        twitter_id: \"hrs_sano645\"\r\n",
        "    -\r\n",
        "        name: \"kzfmix\"\r\n",
        "        entry_status: \"entry\"\r\n",
        "    -\r\n",
        "        name: \"bonohu\"\r\n",
        "        entry_status: \"entry\"\r\n",
        "    -\r\n",
        "        name: \"oec014\"\r\n",
        "        entry_status: \"entry\"\r\n",
        "    -\r\n",
        "        name: \"aoshiman\"\r\n",
        "        entry_status: \"entry\"\r\n",
        "    -\r\n",
        "        name: \"ando_ando_ando\"\r\n",
        "        entry_status: \"entry\"\r\n",
        "    -\r\n",
        "        name: \"y_sama\"\r\n",
        "        entry_status: \"entry\"\r\n",
        "    -\r\n",
        "        name: \"no85\"\r\n",
        "        entry_status: \"entry\"\r\n",
        "    -\r\n",
        "        name: \"alice\"\r\n",
        "        entry_status: \"entry\"\r\n",
        "    -\r\n",
        "        name: \"tanizawa_yasuhiro\"\r\n",
        "        entry_status: \"entry\"\r\n",
        "    -\r\n",
        "        name: \"ringtaro\"\r\n",
        "        entry_status: \"entry\"\r\n",
        "    -\r\n",
        "        name: \"Satoooooooooooo\"\r\n",
        "        entry_status: \"cancceled\""
       ]
      }
     ],
     "prompt_number": 53
    },
    {
     "cell_type": "markdown",
     "metadata": {},
     "source": [
      "##\u8aad\u307f\u8fbc\u307f"
     ]
    },
    {
     "cell_type": "code",
     "collapsed": false,
     "input": [
      "import yaml"
     ],
     "language": "python",
     "metadata": {},
     "outputs": [],
     "prompt_number": 54
    },
    {
     "cell_type": "code",
     "collapsed": false,
     "input": [
      "with open(\"./exam.yaml\") as yaml_fs:\n",
      "    exam_yaml = yaml.load(yaml_fs)"
     ],
     "language": "python",
     "metadata": {},
     "outputs": [],
     "prompt_number": 55
    },
    {
     "cell_type": "code",
     "collapsed": false,
     "input": [
      "pprint(exam_yaml)"
     ],
     "language": "python",
     "metadata": {},
     "outputs": [
      {
       "output_type": "stream",
       "stream": "stdout",
       "text": [
        "{'general': {'address': '\u201c\u9759\u5ca1\u770c\u5bcc\u58eb\u5e02\u5409\u539f2-10\"',\n",
        "             'name': '\u201cshizuoka.py No4\u201d',\n",
        "             'venue_name': '\u201c\u30b3\u30df\u30e5\u30cb\u30c6\u30a3F\"',\n",
        "             'zipcode': '\u201c417-0051\u201d'},\n",
        " 'members': [{'entry_status': 'entry',\n",
        "              'name': 'hrsano645',\n",
        "              'twitter_id': 'hrs_sano645'},\n",
        "             {'entry_status': 'entry', 'name': 'kzfmix'},\n",
        "             {'entry_status': 'entry', 'name': 'bonohu'},\n",
        "             {'entry_status': 'entry', 'name': 'oec014'},\n",
        "             {'entry_status': 'entry', 'name': 'aoshiman'},\n",
        "             {'entry_status': 'entry', 'name': 'ando_ando_ando'},\n",
        "             {'entry_status': 'entry', 'name': 'y_sama'},\n",
        "             {'entry_status': 'entry', 'name': 'no85'},\n",
        "             {'entry_status': 'entry', 'name': 'alice'},\n",
        "             {'entry_status': 'entry', 'name': 'tanizawa_yasuhiro'},\n",
        "             {'entry_status': 'entry', 'name': 'ringtaro'},\n",
        "             {'entry_status': 'cancceled', 'name': 'Satoooooooooooo'}]}\n"
       ]
      }
     ],
     "prompt_number": 56
    },
    {
     "cell_type": "code",
     "collapsed": false,
     "input": [
      "type(exam_yaml)"
     ],
     "language": "python",
     "metadata": {},
     "outputs": [
      {
       "metadata": {},
       "output_type": "pyout",
       "prompt_number": 57,
       "text": [
        "dict"
       ]
      }
     ],
     "prompt_number": 57
    },
    {
     "cell_type": "markdown",
     "metadata": {},
     "source": [
      "##\u66f8\u304d\u51fa\u3057"
     ]
    },
    {
     "cell_type": "code",
     "collapsed": false,
     "input": [
      "pprint(ryukougo_taisyo,)"
     ],
     "language": "python",
     "metadata": {},
     "outputs": [
      {
       "output_type": "stream",
       "stream": "stdout",
       "text": [
        "{'no1': {'awerd': '\u5927\u8cde',\n",
        "         'winner_name': '\u65e5\u672c\u30a8\u30ec\u30ad\u30c6\u30eb\u9023\u5408\u6a4b\u672c\u5c0f\u96ea\u3055\u3093\u3068\u4e2d\u91ce\u8061\u5b50\u3055\u3093',\n",
        "         'word': '\u30c0\u30e1\u3088\uff5e\u30c0\u30e1\u30c0\u30e1'},\n",
        " 'no2': {'awerd': '\u5927\u8cde', 'winner_name': 'none', 'word': '\u96c6\u56e3\u7684\u81ea\u885b\u6a29'},\n",
        " 'no3': {'awerd': '\u30c8\u30c3\u30d7\u30c6\u30f3',\n",
        "         'winner_name': '\u30c7\u30a3\u30ba\u30cb\u30fc\u300e\u30a2\u30ca\u3068\u96ea\u306e\u5973\u738b\u300f\u30c1\u30fc\u30e0',\n",
        "         'word': '\u3042\u308a\u306e\u307e\u307e\u3067'},\n",
        " 'no4': {'awerd': '\u30c8\u30c3\u30d7\u30c6\u30f3',\n",
        "         'winner_name': ['\u300c\u7403\u754c\u30e9\u30f4\u30a1\u30fc\u30ba\u300d\u306e\u4f5c\u8005\u77f3\u7530\u6566\u5b50\u3055\u3093',\n",
        "                         '\u300c\u30ab\u30fc\u30d7\u5973\u5b50\u300d\u795e3(\u30b9\u30ea\u30fc)\u3068\u547c\u3070\u308c\u308b\u5927\u4e95\u667a\u4fdd\u5b50\u3055\u3093\u3001\u53e4\u7530\u3061\u3055\u3053\u3055\u3093\u3001\u5929\u91ce\u6075\u3055\u3093'],\n",
        "         'word': '\u30ab\u30fc\u30d7\u5973\u5b50'},\n",
        " 'no5': {'awerd': '\u30c8\u30c3\u30d7\u30c6\u30f3', 'winner_name': '\u6620\u753b\u300cL\u2661DK\u300d', 'word': '\u58c1\u30c9\u30f3'},\n",
        " 'no6': {'awerd': '\u30c8\u30c3\u30d7\u30c6\u30f3', 'winner_name': '\u5143\u56fd\u5bb6\u516c\u5b89\u59d4\u54e1\u9577\u306e\u53e4\u5c4b\u572d\u53f8\u3055\u3093', 'word': '\u5371\u967a\u30c9\u30e9\u30c3\u30b0'},\n",
        " 'no7': {'awerd': '\u30c8\u30c3\u30d7\u30c6\u30f3', 'winner_name': '\u7f8e\u8f2a\u660e\u5b8f\u3055\u3093', 'word': '\u3054\u304d\u3052\u3093\u3088\u3046'},\n",
        " 'no8': {'awerd': '\u30c8\u30c3\u30d7\u30c6\u30f3', 'winner_name': '\u6749\u6d66\u6d69\u7f8e\u3055\u3093', 'word': '\u30de\u30bf\u30cf\u30e9'},\n",
        " 'no9': {'awerd': '\u30c8\u30c3\u30d7\u30c6\u30f3',\n",
        "         'winner_name': '\u5996\u602a\u30a6\u30a9\u30c3\u30c1 \u30af\u30ea\u30a8\u30a4\u30c6\u30a3\u30d6\u30d7\u30ed\u30c7\u30e5\u30fc\u30b5\u30fc\uff0f\u4f01\u753b\u30fb\u30b7\u30ca\u30ea\u30aa\u539f\u6848\u3001\u65e5\u91ce\u6643\u535a\u3055\u3093',\n",
        "         'word': '\u5996\u602a\u30a6\u30a9\u30c3\u30c1'},\n",
        " 'no10': {'awerd': '\u30c8\u30c3\u30d7\u30c6\u30f3',\n",
        "          'winner_name': ['\u30b9\u30ad\u30fc\u30b8\u30e3\u30f3\u30d7\u7af6\u6280\u306b\u304a\u3051\u308b\u30ec\u30b8\u30a7\u30f3\u30c9\u3001\u845b\u897f\u7d00\u660e\u3055\u3093',\n",
        "                          '\u30b4\u30eb\u30d5\u754c\u306e\u30ec\u30b8\u30a7\u30f3\u30c9\u3001\u9752\u6728\u529f\u3055\u3093',\n",
        "                          '\u7403\u754c\u306e\u30ec\u30b8\u30a7\u30f3\u30c9\u9244\u4eba\u5de6\u8155\u6295\u624b\u3001\u5c71\u672c\u660c\u5e83\u3055\u3093'],\n",
        "          'word': '\u30ec\u30b8\u30a7\u30f3\u30c9'}}\n"
       ]
      }
     ],
     "prompt_number": 58
    },
    {
     "cell_type": "code",
     "collapsed": false,
     "input": [
      "pprint(yaml.dump(ryukougo_taisyo, encoding='utf8', allow_unicode=True))"
     ],
     "language": "python",
     "metadata": {},
     "outputs": [
      {
       "output_type": "stream",
       "stream": "stdout",
       "text": [
        "b'!!python/object/apply:collections.OrderedDict\\ndictitems:\\n  no1: {awerd: \\xe5\\xa4\\xa7\\xe8\\xb3\\x9e, winner_name: \\xe6\\x97\\xa5\\xe6\\x9c\\xac\\xe3\\x82\\xa8\\xe3\\x83\\xac\\xe3\\x82\\xad\\xe3\\x83\\x86\\xe3\\x83\\xab\\xe9\\x80\\xa3\\xe5\\x90\\x88\\xe6\\xa9\\x8b\\xe6\\x9c\\xac\\xe5\\xb0\\x8f\\xe9\\x9b\\xaa\\xe3\\x81\\x95\\xe3\\x82\\x93\\xe3\\x81\\xa8\\xe4\\xb8\\xad\\xe9\\x87\\x8e\\xe8\\x81\\xa1\\xe5\\xad\\x90\\xe3\\x81\\x95\\xe3\\x82\\x93, word: \\xe3\\x83\\x80\\xe3\\x83\\xa1\\xe3\\x82\\x88\\xef\\xbd\\x9e\\xe3\\x83\\x80\\xe3\\x83\\xa1\\xe3\\x83\\x80\\xe3\\x83\\xa1}\\n  no10:\\n    awerd: \\xe3\\x83\\x88\\xe3\\x83\\x83\\xe3\\x83\\x97\\xe3\\x83\\x86\\xe3\\x83\\xb3\\n    winner_name: [\\xe3\\x82\\xb9\\xe3\\x82\\xad\\xe3\\x83\\xbc\\xe3\\x82\\xb8\\xe3\\x83\\xa3\\xe3\\x83\\xb3\\xe3\\x83\\x97\\xe7\\xab\\xb6\\xe6\\x8a\\x80\\xe3\\x81\\xab\\xe3\\x81\\x8a\\xe3\\x81\\x91\\xe3\\x82\\x8b\\xe3\\x83\\xac\\xe3\\x82\\xb8\\xe3\\x82\\xa7\\xe3\\x83\\xb3\\xe3\\x83\\x89\\xe3\\x80\\x81\\xe8\\x91\\x9b\\xe8\\xa5\\xbf\\xe7\\xb4\\x80\\xe6\\x98\\x8e\\xe3\\x81\\x95\\xe3\\x82\\x93, \\xe3\\x82\\xb4\\xe3\\x83\\xab\\xe3\\x83\\x95\\xe7\\x95\\x8c\\xe3\\x81\\xae\\xe3\\x83\\xac\\xe3\\x82\\xb8\\xe3\\x82\\xa7\\xe3\\x83\\xb3\\xe3\\x83\\x89\\xe3\\x80\\x81\\xe9\\x9d\\x92\\xe6\\x9c\\xa8\\xe5\\x8a\\x9f\\xe3\\x81\\x95\\xe3\\x82\\x93, \\xe7\\x90\\x83\\xe7\\x95\\x8c\\xe3\\x81\\xae\\xe3\\x83\\xac\\xe3\\x82\\xb8\\xe3\\x82\\xa7\\xe3\\x83\\xb3\\xe3\\x83\\x89\\xe9\\x89\\x84\\xe4\\xba\\xba\\xe5\\xb7\\xa6\\xe8\\x85\\x95\\xe6\\x8a\\x95\\xe6\\x89\\x8b\\xe3\\x80\\x81\\xe5\\xb1\\xb1\\xe6\\x9c\\xac\\xe6\\x98\\x8c\\xe5\\xba\\x83\\xe3\\x81\\x95\\xe3\\x82\\x93]\\n    word: \\xe3\\x83\\xac\\xe3\\x82\\xb8\\xe3\\x82\\xa7\\xe3\\x83\\xb3\\xe3\\x83\\x89\\n  no2: {awerd: \\xe5\\xa4\\xa7\\xe8\\xb3\\x9e, winner_name: none, word: \\xe9\\x9b\\x86\\xe5\\x9b\\xa3\\xe7\\x9a\\x84\\xe8\\x87\\xaa\\xe8\\xa1\\x9b\\xe6\\xa8\\xa9}\\n  no3: {awerd: \\xe3\\x83\\x88\\xe3\\x83\\x83\\xe3\\x83\\x97\\xe3\\x83\\x86\\xe3\\x83\\xb3, winner_name: \\xe3\\x83\\x87\\xe3\\x82\\xa3\\xe3\\x82\\xba\\xe3\\x83\\x8b\\xe3\\x83\\xbc\\xe3\\x80\\x8e\\xe3\\x82\\xa2\\xe3\\x83\\x8a\\xe3\\x81\\xa8\\xe9\\x9b\\xaa\\xe3\\x81\\xae\\xe5\\xa5\\xb3\\xe7\\x8e\\x8b\\xe3\\x80\\x8f\\xe3\\x83\\x81\\xe3\\x83\\xbc\\xe3\\x83\\xa0, word: \\xe3\\x81\\x82\\xe3\\x82\\x8a\\xe3\\x81\\xae\\xe3\\x81\\xbe\\xe3\\x81\\xbe\\xe3\\x81\\xa7}\\n  no4:\\n    awerd: \\xe3\\x83\\x88\\xe3\\x83\\x83\\xe3\\x83\\x97\\xe3\\x83\\x86\\xe3\\x83\\xb3\\n    winner_name: [\\xe3\\x80\\x8c\\xe7\\x90\\x83\\xe7\\x95\\x8c\\xe3\\x83\\xa9\\xe3\\x83\\xb4\\xe3\\x82\\xa1\\xe3\\x83\\xbc\\xe3\\x82\\xba\\xe3\\x80\\x8d\\xe3\\x81\\xae\\xe4\\xbd\\x9c\\xe8\\x80\\x85\\xe7\\x9f\\xb3\\xe7\\x94\\xb0\\xe6\\x95\\xa6\\xe5\\xad\\x90\\xe3\\x81\\x95\\xe3\\x82\\x93, \\xe3\\x80\\x8c\\xe3\\x82\\xab\\xe3\\x83\\xbc\\xe3\\x83\\x97\\xe5\\xa5\\xb3\\xe5\\xad\\x90\\xe3\\x80\\x8d\\xe7\\xa5\\x9e3(\\xe3\\x82\\xb9\\xe3\\x83\\xaa\\xe3\\x83\\xbc)\\xe3\\x81\\xa8\\xe5\\x91\\xbc\\xe3\\x81\\xb0\\xe3\\x82\\x8c\\xe3\\x82\\x8b\\xe5\\xa4\\xa7\\xe4\\xba\\x95\\xe6\\x99\\xba\\xe4\\xbf\\x9d\\xe5\\xad\\x90\\xe3\\x81\\x95\\xe3\\x82\\x93\\xe3\\x80\\x81\\xe5\\x8f\\xa4\\xe7\\x94\\xb0\\xe3\\x81\\xa1\\xe3\\x81\\x95\\xe3\\x81\\x93\\xe3\\x81\\x95\\xe3\\x82\\x93\\xe3\\x80\\x81\\xe5\\xa4\\xa9\\xe9\\x87\\x8e\\xe6\\x81\\xb5\\xe3\\x81\\x95\\xe3\\x82\\x93]\\n    word: \\xe3\\x82\\xab\\xe3\\x83\\xbc\\xe3\\x83\\x97\\xe5\\xa5\\xb3\\xe5\\xad\\x90\\n  no5: {awerd: \\xe3\\x83\\x88\\xe3\\x83\\x83\\xe3\\x83\\x97\\xe3\\x83\\x86\\xe3\\x83\\xb3, winner_name: \\xe6\\x98\\xa0\\xe7\\x94\\xbb\\xe3\\x80\\x8cL\\xe2\\x99\\xa1DK\\xe3\\x80\\x8d, word: \\xe5\\xa3\\x81\\xe3\\x83\\x89\\xe3\\x83\\xb3}\\n  no6: {awerd: \\xe3\\x83\\x88\\xe3\\x83\\x83\\xe3\\x83\\x97\\xe3\\x83\\x86\\xe3\\x83\\xb3, winner_name: \\xe5\\x85\\x83\\xe5\\x9b\\xbd\\xe5\\xae\\xb6\\xe5\\x85\\xac\\xe5\\xae\\x89\\xe5\\xa7\\x94\\xe5\\x93\\xa1\\xe9\\x95\\xb7\\xe3\\x81\\xae\\xe5\\x8f\\xa4\\xe5\\xb1\\x8b\\xe5\\x9c\\xad\\xe5\\x8f\\xb8\\xe3\\x81\\x95\\xe3\\x82\\x93, word: \\xe5\\x8d\\xb1\\xe9\\x99\\xba\\xe3\\x83\\x89\\xe3\\x83\\xa9\\xe3\\x83\\x83\\xe3\\x82\\xb0}\\n  no7: {awerd: \\xe3\\x83\\x88\\xe3\\x83\\x83\\xe3\\x83\\x97\\xe3\\x83\\x86\\xe3\\x83\\xb3, winner_name: \\xe7\\xbe\\x8e\\xe8\\xbc\\xaa\\xe6\\x98\\x8e\\xe5\\xae\\x8f\\xe3\\x81\\x95\\xe3\\x82\\x93, word: \\xe3\\x81\\x94\\xe3\\x81\\x8d\\xe3\\x81\\x92\\xe3\\x82\\x93\\xe3\\x82\\x88\\xe3\\x81\\x86}\\n  no8: {awerd: \\xe3\\x83\\x88\\xe3\\x83\\x83\\xe3\\x83\\x97\\xe3\\x83\\x86\\xe3\\x83\\xb3, winner_name: \\xe6\\x9d\\x89\\xe6\\xb5\\xa6\\xe6\\xb5\\xa9\\xe7\\xbe\\x8e\\xe3\\x81\\x95\\xe3\\x82\\x93, word: \\xe3\\x83\\x9e\\xe3\\x82\\xbf\\xe3\\x83\\x8f\\xe3\\x83\\xa9}\\n  no9: {awerd: \\xe3\\x83\\x88\\xe3\\x83\\x83\\xe3\\x83\\x97\\xe3\\x83\\x86\\xe3\\x83\\xb3, winner_name: \\xe5\\xa6\\x96\\xe6\\x80\\xaa\\xe3\\x82\\xa6\\xe3\\x82\\xa9\\xe3\\x83\\x83\\xe3\\x83\\x81 \\xe3\\x82\\xaf\\xe3\\x83\\xaa\\xe3\\x82\\xa8\\xe3\\x82\\xa4\\xe3\\x83\\x86\\xe3\\x82\\xa3\\xe3\\x83\\x96\\xe3\\x83\\x97\\xe3\\x83\\xad\\xe3\\x83\\x87\\xe3\\x83\\xa5\\xe3\\x83\\xbc\\xe3\\x82\\xb5\\xe3\\x83\\xbc\\xef\\xbc\\x8f\\xe4\\xbc\\x81\\xe7\\x94\\xbb\\xe3\\x83\\xbb\\xe3\\x82\\xb7\\xe3\\x83\\x8a\\xe3\\x83\\xaa\\xe3\\x82\\xaa\\xe5\\x8e\\x9f\\xe6\\xa1\\x88\\xe3\\x80\\x81\\xe6\\x97\\xa5\\xe9\\x87\\x8e\\xe6\\x99\\x83\\xe5\\x8d\\x9a\\xe3\\x81\\x95\\xe3\\x82\\x93, word: \\xe5\\xa6\\x96\\xe6\\x80\\xaa\\xe3\\x82\\xa6\\xe3\\x82\\xa9\\xe3\\x83\\x83\\xe3\\x83\\x81}\\n'\n"
       ]
      }
     ],
     "prompt_number": 59
    },
    {
     "cell_type": "code",
     "collapsed": false,
     "input": [
      "with open(\"./export_ryukougo.yaml\", \"w\") as export_fs:\n",
      "    yaml.dump(ryukougo_taisyo, export_fs, encoding='utf8', allow_unicode=True)"
     ],
     "language": "python",
     "metadata": {},
     "outputs": [],
     "prompt_number": 60
    },
    {
     "cell_type": "code",
     "collapsed": false,
     "input": [
      "!cat \"./export_ryukougo.yaml\""
     ],
     "language": "python",
     "metadata": {},
     "outputs": [
      {
       "output_type": "stream",
       "stream": "stdout",
       "text": [
        "!!python/object/apply:collections.OrderedDict\r\n",
        "dictitems:\r\n",
        "  no1: {awerd: \u5927\u8cde, winner_name: \u65e5\u672c\u30a8\u30ec\u30ad\u30c6\u30eb\u9023\u5408\u6a4b\u672c\u5c0f\u96ea\u3055\u3093\u3068\u4e2d\u91ce\u8061\u5b50\u3055\u3093, word: \u30c0\u30e1\u3088\uff5e\u30c0\u30e1\u30c0\u30e1}\r\n",
        "  no10:\r\n",
        "    awerd: \u30c8\u30c3\u30d7\u30c6\u30f3\r\n",
        "    winner_name: [\u30b9\u30ad\u30fc\u30b8\u30e3\u30f3\u30d7\u7af6\u6280\u306b\u304a\u3051\u308b\u30ec\u30b8\u30a7\u30f3\u30c9\u3001\u845b\u897f\u7d00\u660e\u3055\u3093, \u30b4\u30eb\u30d5\u754c\u306e\u30ec\u30b8\u30a7\u30f3\u30c9\u3001\u9752\u6728\u529f\u3055\u3093, \u7403\u754c\u306e\u30ec\u30b8\u30a7\u30f3\u30c9\u9244\u4eba\u5de6\u8155\u6295\u624b\u3001\u5c71\u672c\u660c\u5e83\u3055\u3093]\r\n",
        "    word: \u30ec\u30b8\u30a7\u30f3\u30c9\r\n",
        "  no2: {awerd: \u5927\u8cde, winner_name: none, word: \u96c6\u56e3\u7684\u81ea\u885b\u6a29}\r\n",
        "  no3: {awerd: \u30c8\u30c3\u30d7\u30c6\u30f3, winner_name: \u30c7\u30a3\u30ba\u30cb\u30fc\u300e\u30a2\u30ca\u3068\u96ea\u306e\u5973\u738b\u300f\u30c1\u30fc\u30e0, word: \u3042\u308a\u306e\u307e\u307e\u3067}\r\n",
        "  no4:\r\n",
        "    awerd: \u30c8\u30c3\u30d7\u30c6\u30f3\r\n",
        "    winner_name: [\u300c\u7403\u754c\u30e9\u30f4\u30a1\u30fc\u30ba\u300d\u306e\u4f5c\u8005\u77f3\u7530\u6566\u5b50\u3055\u3093, \u300c\u30ab\u30fc\u30d7\u5973\u5b50\u300d\u795e3(\u30b9\u30ea\u30fc)\u3068\u547c\u3070\u308c\u308b\u5927\u4e95\u667a\u4fdd\u5b50\u3055\u3093\u3001\u53e4\u7530\u3061\u3055\u3053\u3055\u3093\u3001\u5929\u91ce\u6075\u3055\u3093]\r\n",
        "    word: \u30ab\u30fc\u30d7\u5973\u5b50\r\n",
        "  no5: {awerd: \u30c8\u30c3\u30d7\u30c6\u30f3, winner_name: \u6620\u753b\u300cL\u2661DK\u300d, word: \u58c1\u30c9\u30f3}\r\n",
        "  no6: {awerd: \u30c8\u30c3\u30d7\u30c6\u30f3, winner_name: \u5143\u56fd\u5bb6\u516c\u5b89\u59d4\u54e1\u9577\u306e\u53e4\u5c4b\u572d\u53f8\u3055\u3093, word: \u5371\u967a\u30c9\u30e9\u30c3\u30b0}\r\n",
        "  no7: {awerd: \u30c8\u30c3\u30d7\u30c6\u30f3, winner_name: \u7f8e\u8f2a\u660e\u5b8f\u3055\u3093, word: \u3054\u304d\u3052\u3093\u3088\u3046}\r\n",
        "  no8: {awerd: \u30c8\u30c3\u30d7\u30c6\u30f3, winner_name: \u6749\u6d66\u6d69\u7f8e\u3055\u3093, word: \u30de\u30bf\u30cf\u30e9}\r\n",
        "  no9: {awerd: \u30c8\u30c3\u30d7\u30c6\u30f3, winner_name: \u5996\u602a\u30a6\u30a9\u30c3\u30c1 \u30af\u30ea\u30a8\u30a4\u30c6\u30a3\u30d6\u30d7\u30ed\u30c7\u30e5\u30fc\u30b5\u30fc\uff0f\u4f01\u753b\u30fb\u30b7\u30ca\u30ea\u30aa\u539f\u6848\u3001\u65e5\u91ce\u6643\u535a\u3055\u3093, word: \u5996\u602a\u30a6\u30a9\u30c3\u30c1}\r\n"
       ]
      }
     ],
     "prompt_number": 61
    },
    {
     "cell_type": "code",
     "collapsed": false,
     "input": [],
     "language": "python",
     "metadata": {},
     "outputs": [],
     "prompt_number": 61
    }
   ],
   "metadata": {}
  }
 ]
}